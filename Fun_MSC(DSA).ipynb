{
  "nbformat": 4,
  "nbformat_minor": 0,
  "metadata": {
    "colab": {
      "provenance": []
    },
    "kernelspec": {
      "name": "python3",
      "display_name": "Python 3"
    },
    "language_info": {
      "name": "python"
    }
  },
  "cells": [
    {
      "cell_type": "code",
      "execution_count": null,
      "metadata": {
        "id": "dvp0rpf3SN24"
      },
      "outputs": [],
      "source": []
    },
    {
      "cell_type": "markdown",
      "source": [
        "#A function is a block of code which only runs when it is called.\n",
        "\n",
        "We can pass data, known as parameters, into a function.\n",
        "\n",
        "A function can return data as a result.\n",
        "\n",
        "Creating a Function\n",
        "In Python a function is defined using the def keyword:\n",
        "#Example"
      ],
      "metadata": {
        "id": "G6OnbkZ_Tcry"
      }
    },
    {
      "cell_type": "code",
      "source": [
        "def my_function():\n",
        "  print(\"Hello from a function\")\n",
        "\n",
        " "
      ],
      "metadata": {
        "id": "K6aA5JqjUQV0"
      },
      "execution_count": null,
      "outputs": []
    },
    {
      "cell_type": "markdown",
      "source": [
        "#Calling a Function\n",
        "To call a function, use the function name followed by parenthesis:\n",
        "\n",
        "Example"
      ],
      "metadata": {
        "id": "MxjybRPRUYxL"
      }
    },
    {
      "cell_type": "code",
      "source": [
        "def my_function():\n",
        "  print(\"Hello from a function\")\n",
        "\n",
        "my_function()"
      ],
      "metadata": {
        "colab": {
          "base_uri": "https://localhost:8080/"
        },
        "id": "qa7_41WyUvqr",
        "outputId": "070c69b9-4731-42a3-8d4f-1003d5fe1955"
      },
      "execution_count": null,
      "outputs": [
        {
          "output_type": "stream",
          "name": "stdout",
          "text": [
            "Hello from a function\n"
          ]
        }
      ]
    },
    {
      "cell_type": "markdown",
      "source": [
        "#Arguments\n",
        "Information can be passed into functions as arguments.\n",
        "\n",
        "Arguments are specified after the function name, inside the parentheses. You can add as many arguments as you want, just separate them with a comma.\n",
        "\n",
        "The following example has a function with one argument (Stream). When the function is called, we pass along a first Steram, which is used inside the function to print the full Stream:\n",
        "\n",
        "Example"
      ],
      "metadata": {
        "id": "najMwBzSUzBc"
      }
    },
    {
      "cell_type": "code",
      "source": [
        "def my_Stream(Stream):\n",
        "  print(Stream + \" Scala\")\n",
        "\n",
        "my_Stream(\"Mtech\")\n",
        "my_Stream(\"MSC\")\n",
        "my_Stream(\"MBA\")"
      ],
      "metadata": {
        "colab": {
          "base_uri": "https://localhost:8080/"
        },
        "id": "rD5utyLxU4KM",
        "outputId": "5545f08a-c18d-4be4-e1aa-2a536cd59b56"
      },
      "execution_count": null,
      "outputs": [
        {
          "output_type": "stream",
          "name": "stdout",
          "text": [
            "Mtech Scala\n",
            "MSC Scala\n",
            "MBA Scala\n"
          ]
        }
      ]
    },
    {
      "cell_type": "markdown",
      "source": [
        "#Parameters or Arguments?\n",
        "The terms parameter and argument can be used for the same thing: information that are passed into a function.\n",
        "\n",
        "#From a function's perspective:\n",
        "\n",
        "A parameter is the variable listed inside the parentheses in the function definition.\n",
        "\n",
        "An argument is the value that is sent to the function when it is called."
      ],
      "metadata": {
        "id": "JgfGGayDVgVd"
      }
    },
    {
      "cell_type": "markdown",
      "source": [
        "#Number of Arguments\n",
        "By default, a function must be called with the correct number of arguments. Meaning that if your function expects 2 arguments, you have to call the function with 2 arguments, not more, and not less.\n",
        "\n",
        "#Example\n",
        "This function expects 2 arguments, and gets 2 arguments:"
      ],
      "metadata": {
        "id": "oT8A9B8TVm7t"
      }
    },
    {
      "cell_type": "code",
      "source": [
        "def my_Stream(Class, Course):\n",
        "  print(Class + \" \" + Course)\n",
        "\n",
        "my_Stream(\"MTECH\", \"Scala\")"
      ],
      "metadata": {
        "colab": {
          "base_uri": "https://localhost:8080/"
        },
        "id": "EKg9PcAiV6P9",
        "outputId": "f4c979d4-76d2-4ef5-bd19-f64fdb3c2945"
      },
      "execution_count": null,
      "outputs": [
        {
          "output_type": "stream",
          "name": "stdout",
          "text": [
            "MTECH Scala\n"
          ]
        }
      ]
    },
    {
      "cell_type": "markdown",
      "source": [
        "#If you try to call the function with 1 or 3 arguments, you will get an error:\n",
        "\n",
        "Example\n",
        "This function expects 2 arguments, but gets only 1:"
      ],
      "metadata": {
        "id": "BMOURBjZWNxd"
      }
    },
    {
      "cell_type": "code",
      "source": [
        "def my_Stream(Class, Course):\n",
        "  print(Class + \" \" + Course)\n",
        "\n",
        "my_Stream(\"MTECH\")"
      ],
      "metadata": {
        "colab": {
          "base_uri": "https://localhost:8080/",
          "height": 200
        },
        "id": "LbT7A0EqWQt1",
        "outputId": "c2a236d9-9e32-4cdb-d4ce-7161c53fe70d"
      },
      "execution_count": null,
      "outputs": [
        {
          "output_type": "error",
          "ename": "TypeError",
          "evalue": "ignored",
          "traceback": [
            "\u001b[0;31m---------------------------------------------------------------------------\u001b[0m",
            "\u001b[0;31mTypeError\u001b[0m                                 Traceback (most recent call last)",
            "\u001b[0;32m<ipython-input-9-3c2ca5eb906b>\u001b[0m in \u001b[0;36m<module>\u001b[0;34m\u001b[0m\n\u001b[1;32m      2\u001b[0m   \u001b[0mprint\u001b[0m\u001b[0;34m(\u001b[0m\u001b[0mClass\u001b[0m \u001b[0;34m+\u001b[0m \u001b[0;34m\" \"\u001b[0m \u001b[0;34m+\u001b[0m \u001b[0mCourse\u001b[0m\u001b[0;34m)\u001b[0m\u001b[0;34m\u001b[0m\u001b[0;34m\u001b[0m\u001b[0m\n\u001b[1;32m      3\u001b[0m \u001b[0;34m\u001b[0m\u001b[0m\n\u001b[0;32m----> 4\u001b[0;31m \u001b[0mmy_Stream\u001b[0m\u001b[0;34m(\u001b[0m\u001b[0;34m\"MTECH\"\u001b[0m\u001b[0;34m)\u001b[0m\u001b[0;34m\u001b[0m\u001b[0;34m\u001b[0m\u001b[0m\n\u001b[0m",
            "\u001b[0;31mTypeError\u001b[0m: my_Stream() missing 1 required positional argument: 'Course'"
          ]
        }
      ]
    },
    {
      "cell_type": "markdown",
      "source": [
        "#Arbitrary Arguments, *args\n",
        "\n",
        "If you do not know how many arguments that will be passed into your function, add a * before the parameter name in the function definition.\n",
        "\n",
        "\n",
        "This way the function will receive a tuple of arguments, and can access the items accordingly:\n",
        "\n",
        "Example\n",
        "If the number of arguments is unknown, add a * before the parameter name:"
      ],
      "metadata": {
        "id": "t6-ZsZAXWXtk"
      }
    },
    {
      "cell_type": "code",
      "source": [
        "def my_Stream(*Class):\n",
        "  print(\"The class of the Student\",Class[1])\n",
        "\n",
        "my_Stream(\"MTECH\", \"MBA\",\"MSC\")"
      ],
      "metadata": {
        "colab": {
          "base_uri": "https://localhost:8080/"
        },
        "id": "wb5UkubdWkWl",
        "outputId": "8474d937-addb-47be-f337-f8992cbccfe3"
      },
      "execution_count": null,
      "outputs": [
        {
          "output_type": "stream",
          "name": "stdout",
          "text": [
            "The class of the Student MBA\n"
          ]
        }
      ]
    },
    {
      "cell_type": "markdown",
      "source": [
        "#Keyword Arguments\n",
        "We can also send arguments with the key = value syntax.\n",
        "\n",
        "This way the order of the arguments does not matter.\n",
        "\n",
        "Example"
      ],
      "metadata": {
        "id": "8Qyrma44XKYC"
      }
    },
    {
      "cell_type": "code",
      "source": [
        "def my_Stream(Class3,Class2,Class1):\n",
        "  print(\"The class of the Student is\",Class3)\n",
        "\n",
        "my_Stream(Class3=\"MTECH\",Class2= \"MBA\",Class1=\"MSC\")\n",
        "\n",
        "\n",
        " "
      ],
      "metadata": {
        "colab": {
          "base_uri": "https://localhost:8080/"
        },
        "id": "vSDaW4AMXVam",
        "outputId": "1af258c5-2264-4fd8-fe4c-502d0e358c1b"
      },
      "execution_count": null,
      "outputs": [
        {
          "output_type": "stream",
          "name": "stdout",
          "text": [
            "The class of the Student is MTECH\n"
          ]
        }
      ]
    },
    {
      "cell_type": "markdown",
      "source": [
        "#Arbitrary Keyword Arguments, **kwargs\n",
        "If you do not know how many keyword arguments that will be passed into your function, add two asterisk: ** before the parameter name in the function definition.\n",
        "\n",
        "This way the function will receive a dictionary of arguments, and can access the items accordingly:\n",
        "\n",
        "#Example\n",
        "If the number of keyword arguments is unknown, add a double ** before the parameter name:"
      ],
      "metadata": {
        "id": "e0esE6CQX8OO"
      }
    },
    {
      "cell_type": "code",
      "source": [
        "def my_Stream(**Class):\n",
        "  print(\"The class of the Student is\",Class[\"Class3\"])\n",
        "\n",
        "my_Stream(Class3=\"MTECH\",Class2= \"MBA\",Class1=\"MSC\")\n",
        "\n",
        "\n",
        " "
      ],
      "metadata": {
        "colab": {
          "base_uri": "https://localhost:8080/"
        },
        "id": "h_dnTsjXYTuO",
        "outputId": "4dcee1b1-80e2-48ea-d495-0e56e5db9a2f"
      },
      "execution_count": null,
      "outputs": [
        {
          "output_type": "stream",
          "name": "stdout",
          "text": [
            "The class of the Student is MTECH\n"
          ]
        }
      ]
    },
    {
      "cell_type": "markdown",
      "source": [
        "#Default Parameter Value\n",
        "The following example shows how to use a default parameter value.\n",
        "If we call the function without argument, it uses the default value:"
      ],
      "metadata": {
        "id": "aA2QvVzsYrVF"
      }
    },
    {
      "cell_type": "code",
      "source": [
        "def my_Stream(Class=\"BSC\"):\n",
        "  print(\"I am from\",Class )\n",
        "\n",
        "my_Stream(\"Mtech\")\n",
        "my_Stream(\"MBA\")\n",
        "my_Stream()\n",
        "my_Stream(\"MSC\")\n"
      ],
      "metadata": {
        "colab": {
          "base_uri": "https://localhost:8080/"
        },
        "id": "NMpiKkF6Y3xF",
        "outputId": "2b56c3d1-33d8-44a0-bbe4-15dfbcc5e261"
      },
      "execution_count": null,
      "outputs": [
        {
          "output_type": "stream",
          "name": "stdout",
          "text": [
            "I am from Mtech\n",
            "I am from MBA\n",
            "I am from BSC\n",
            "I am from MSC\n"
          ]
        }
      ]
    }
  ]
}