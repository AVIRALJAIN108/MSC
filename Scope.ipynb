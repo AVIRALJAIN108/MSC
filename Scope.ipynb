{
  "nbformat": 4,
  "nbformat_minor": 0,
  "metadata": {
    "colab": {
      "provenance": []
    },
    "kernelspec": {
      "name": "python3",
      "display_name": "Python 3"
    },
    "language_info": {
      "name": "python"
    }
  },
  "cells": [
    {
      "cell_type": "code",
      "execution_count": null,
      "metadata": {
        "id": "5b4dRp3LouBq"
      },
      "outputs": [],
      "source": []
    },
    {
      "cell_type": "markdown",
      "source": [
        "#Local Scope\n",
        "A variable created inside a function belongs to the local scope of that function, and can only be used inside that function.\n",
        "Example\n",
        "A variable created inside a function is available inside that function:\n"
      ],
      "metadata": {
        "id": "_B3OFXwowgbX"
      }
    },
    {
      "cell_type": "code",
      "source": [
        "def myfunc():\n",
        "  x = 300\n",
        "  print(x)\n",
        "\n",
        "myfunc()\n"
      ],
      "metadata": {
        "colab": {
          "base_uri": "https://localhost:8080/"
        },
        "id": "zQwwBThmwm-U",
        "outputId": "1f0eeaf0-7c87-4a92-a37e-58b452f36369"
      },
      "execution_count": 5,
      "outputs": [
        {
          "output_type": "stream",
          "name": "stdout",
          "text": [
            "300\n"
          ]
        }
      ]
    },
    {
      "cell_type": "markdown",
      "source": [
        "#Function Inside Function\n",
        "As explained in the example above, the variable x is not available outside the function, but it is available for any function inside the function:\n",
        "Example\n",
        "The local variable can be accessed from a function within the function:\n"
      ],
      "metadata": {
        "id": "CXWgekQUwuxs"
      }
    },
    {
      "cell_type": "code",
      "source": [
        "def myfunc():\n",
        "  x = 300\n",
        "  def myinnerfunc():\n",
        "    print(x)\n",
        "  myinnerfunc()\n",
        "\n",
        "myfunc()\n"
      ],
      "metadata": {
        "colab": {
          "base_uri": "https://localhost:8080/"
        },
        "id": "ReE4_jTtw8aZ",
        "outputId": "a1c0f371-67dc-4bc6-930d-45de42652ba2"
      },
      "execution_count": 6,
      "outputs": [
        {
          "output_type": "stream",
          "name": "stdout",
          "text": [
            "300\n"
          ]
        }
      ]
    },
    {
      "cell_type": "markdown",
      "source": [
        "#Global Scope\n",
        "A variable created in the main body of the Python code is a global variable and belongs to the global scope.\n",
        "Global variables are available from within any scope, global and local.\n",
        "Example\n",
        "A variable created outside of a function is global and can be used by anyone:\n"
      ],
      "metadata": {
        "id": "sH3fGjIVxLLJ"
      }
    },
    {
      "cell_type": "code",
      "source": [
        "x = 300\n",
        "\n",
        "def myfunc():\n",
        "  print(x)\n",
        "\n",
        "myfunc()\n",
        "\n",
        "print(x)\n"
      ],
      "metadata": {
        "colab": {
          "base_uri": "https://localhost:8080/"
        },
        "id": "1yfuxI2OxUSd",
        "outputId": "651e2824-19f7-438f-d638-994fb383e0d9"
      },
      "execution_count": 7,
      "outputs": [
        {
          "output_type": "stream",
          "name": "stdout",
          "text": [
            "300\n",
            "300\n"
          ]
        }
      ]
    },
    {
      "cell_type": "markdown",
      "source": [
        "#Naming Variables\n",
        "If you operate with the same variable name inside and outside of a function, Python will treat them as two separate variables, one available in the global scope (outside the function) and one available in the local scope (inside the function):\n",
        "Example\n",
        "The function will print the local x, and then the code will print the global x:\n"
      ],
      "metadata": {
        "id": "rp3qhVvbxlQN"
      }
    },
    {
      "cell_type": "code",
      "source": [
        "x = 300\n",
        "\n",
        "def myfunc():\n",
        "  x = 200\n",
        "  print(x)\n",
        "\n",
        "myfunc()\n",
        "\n",
        "print(x)\n"
      ],
      "metadata": {
        "colab": {
          "base_uri": "https://localhost:8080/"
        },
        "id": "xyHSTvV5xv46",
        "outputId": "55780278-e602-4f14-c3a9-bac111ae7262"
      },
      "execution_count": 8,
      "outputs": [
        {
          "output_type": "stream",
          "name": "stdout",
          "text": [
            "200\n",
            "300\n"
          ]
        }
      ]
    },
    {
      "cell_type": "markdown",
      "source": [
        "Global Keyword\n",
        "If you need to create a global variable, but are stuck in the local scope, you can use the global keyword.\n",
        "The global keyword makes the variable global.\n",
        "Example\n",
        "If you use the global keyword, the variable belongs to the global scope:\n"
      ],
      "metadata": {
        "id": "_w2ZBPJTx9nh"
      }
    },
    {
      "cell_type": "code",
      "source": [
        "def myfunc():\n",
        "  global x\n",
        "  x = 300\n",
        "\n",
        "myfunc()\n",
        "\n",
        "print(x)\n"
      ],
      "metadata": {
        "colab": {
          "base_uri": "https://localhost:8080/"
        },
        "id": "8KugR05fyDrx",
        "outputId": "3f703ee4-220d-4e62-dc63-f25b80ca0d3f"
      },
      "execution_count": 9,
      "outputs": [
        {
          "output_type": "stream",
          "name": "stdout",
          "text": [
            "300\n"
          ]
        }
      ]
    }
  ]
}