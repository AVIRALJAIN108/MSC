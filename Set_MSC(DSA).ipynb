{
  "nbformat": 4,
  "nbformat_minor": 0,
  "metadata": {
    "colab": {
      "provenance": []
    },
    "kernelspec": {
      "name": "python3",
      "display_name": "Python 3"
    },
    "language_info": {
      "name": "python"
    }
  },
  "cells": [
    {
      "cell_type": "code",
      "execution_count": null,
      "metadata": {
        "id": "K4Omgg_JOH5N"
      },
      "outputs": [],
      "source": []
    },
    {
      "cell_type": "markdown",
      "source": [
        "#Python Sets"
      ],
      "metadata": {
        "id": "XgI1CUT5OM0i"
      }
    },
    {
      "cell_type": "markdown",
      "source": [
        "#Set\n",
        "#Sets are used to store multiple items in a single variable.\n",
        "\n",
        "Set is one of 4 built-in data types in Python used to store collections of data, the other 3 are List, Tuple, and Dictionary, all with different qualities and usage.\n",
        "\n",
        "A set is a collection which is unordered, unchangeable*, and unindexed.\n",
        "\n",
        "* Note: Set items are unchangeable, but you can remove items and add new items.\n",
        "\n",
        "Example\n",
        "Create a Set:"
      ],
      "metadata": {
        "id": "K70gvaISOQlB"
      }
    },
    {
      "cell_type": "code",
      "source": [
        "Class_DSA = {\"Mtech\", \"MSC\", \"MBA\"}"
      ],
      "metadata": {
        "id": "MzT4U_7UOQDx"
      },
      "execution_count": null,
      "outputs": []
    },
    {
      "cell_type": "markdown",
      "source": [
        "#Set Items\n",
        "Set items are unordered, unchangeable, and do not allow duplicate values.\n",
        "\n",
        "#Unordered\n",
        "Unordered means that the items in a set do not have a defined order.\n",
        "\n",
        "Set items can appear in a different order every time you use them, and cannot be referred to by index or key.\n",
        "\n",
        "#Unchangeable\n",
        "Set items are unchangeable, meaning that we cannot change the items after the set has been created.\n",
        "\n",
        "Once a set is created, you cannot change its items, but you can remove items and add new items.\n",
        "\n",
        "#Duplicates Not Allowed\n",
        "Sets cannot have two items with the same value."
      ],
      "metadata": {
        "id": "rTrASujzOo0I"
      }
    },
    {
      "cell_type": "markdown",
      "source": [
        "Example\n",
        "Duplicate values will be ignored:"
      ],
      "metadata": {
        "id": "UmX42PxCOvrO"
      }
    },
    {
      "cell_type": "code",
      "source": [
        "Class_DSA = {\"Mtech\", \"MSC\", \"MBA\",\"MBA\",\"MBA\"}\n",
        "Class_DSA"
      ],
      "metadata": {
        "colab": {
          "base_uri": "https://localhost:8080/"
        },
        "id": "mSGx3jS6OxrQ",
        "outputId": "7dac28dc-b2b8-4363-c652-3836468a59df"
      },
      "execution_count": null,
      "outputs": [
        {
          "output_type": "execute_result",
          "data": {
            "text/plain": [
              "{'MBA', 'MSC', 'Mtech'}"
            ]
          },
          "metadata": {},
          "execution_count": 5
        }
      ]
    },
    {
      "cell_type": "markdown",
      "source": [
        "#Get the Length of a Set\n",
        "To determine how many items a set has, use the len() function.\n",
        "\n",
        "#Example\n",
        "Get the number of items in a set:"
      ],
      "metadata": {
        "id": "TT0CuKavO7ee"
      }
    },
    {
      "cell_type": "code",
      "source": [
        "Class_DSA = {\"Mtech\", \"MSC\", \"MBA\",\"MBA\",\"MBA\"}\n",
        "print(len(Class_DSA))"
      ],
      "metadata": {
        "colab": {
          "base_uri": "https://localhost:8080/"
        },
        "id": "LTa8n-TrPAzB",
        "outputId": "40528a6e-4270-45fa-8c34-4f22cd6d6eb5"
      },
      "execution_count": null,
      "outputs": [
        {
          "output_type": "stream",
          "name": "stdout",
          "text": [
            "3\n"
          ]
        }
      ]
    },
    {
      "cell_type": "markdown",
      "source": [
        "#Set Items - Data Types\n",
        "Set items can be of any data type:\n",
        "\n",
        "Example\n",
        "String, int and boolean data types:"
      ],
      "metadata": {
        "id": "kbkML5u7PHbB"
      }
    },
    {
      "cell_type": "code",
      "source": [
        "Class_DSA = {\"Mtech\", \"MSC\", 2,\"MBA\",\"MBA\",4.0}\n",
        "print( Class_DSA)"
      ],
      "metadata": {
        "colab": {
          "base_uri": "https://localhost:8080/"
        },
        "id": "az9j7fSHPKvp",
        "outputId": "37d8e322-d4ea-4202-c4c0-1943e50fd9be"
      },
      "execution_count": null,
      "outputs": [
        {
          "output_type": "stream",
          "name": "stdout",
          "text": [
            "{2, 4.0, 'MBA', 'MSC', 'Mtech'}\n"
          ]
        }
      ]
    },
    {
      "cell_type": "markdown",
      "source": [
        "#Python - Access Set Items"
      ],
      "metadata": {
        "id": "clg-SLAcPbZR"
      }
    },
    {
      "cell_type": "markdown",
      "source": [
        "#Access Items\n",
        "We cannot access items in a set by referring to an index or a key.\n",
        "\n",
        "But we can loop through the set items using a for loop, or ask if a specified value is present in a set, by using the in keyword.\n",
        "\n",
        "Example\n",
        "Loop through the set, and print the values:"
      ],
      "metadata": {
        "id": "fiPCwmd3PgXh"
      }
    },
    {
      "cell_type": "code",
      "source": [
        "Class_DSA1 = {\"Mtech\",\"MSC\",\"MBA\",4,4.0,\"MBA\"}\n",
        "for x in Class_DSA1:\n",
        "  print(x) "
      ],
      "metadata": {
        "colab": {
          "base_uri": "https://localhost:8080/"
        },
        "id": "LswEbvpfPoJb",
        "outputId": "a8a921a5-46ae-45ce-96a1-b05698ed635e"
      },
      "execution_count": null,
      "outputs": [
        {
          "output_type": "stream",
          "name": "stdout",
          "text": [
            "4\n",
            "MSC\n",
            "Mtech\n",
            "MBA\n"
          ]
        }
      ]
    }
  ]
}