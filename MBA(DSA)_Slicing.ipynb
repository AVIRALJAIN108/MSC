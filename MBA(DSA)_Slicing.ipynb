{
  "nbformat": 4,
  "nbformat_minor": 0,
  "metadata": {
    "colab": {
      "provenance": []
    },
    "kernelspec": {
      "name": "python3",
      "display_name": "Python 3"
    },
    "language_info": {
      "name": "python"
    }
  },
  "cells": [
    {
      "cell_type": "code",
      "execution_count": null,
      "metadata": {
        "id": "joQGpqTu9Uxi"
      },
      "outputs": [],
      "source": []
    },
    {
      "cell_type": "markdown",
      "source": [
        "#What Is Slicing?\n",
        "\n",
        "Slicing is the extraction of a part of a string, list, or tuple. It enables users to access the specific range of elements by mentioning their indices. \n",
        "\n",
        "Syntax: Object [start:stop:step]\n",
        "\n",
        "“Start” specifies the starting index of a slice \n",
        "\n",
        "“Stop” specifies the ending element of a slice\n",
        "\n",
        "You can use one of these if you want to skip certain items"
      ],
      "metadata": {
        "id": "FyIdP5bn9r13"
      }
    },
    {
      "cell_type": "code",
      "source": [
        "colors = ['red', 'green', 'blue', 'orange']\n",
        "\n",
        "# extract data\n",
        "print(colors[1:3])\n",
        "\n",
        "# assign data\n",
        "colors[1:3] = ['pink', 'black']\n",
        "print(colors)"
      ],
      "metadata": {
        "colab": {
          "base_uri": "https://localhost:8080/"
        },
        "id": "V4U4nroA940R",
        "outputId": "69920a0c-963c-4515-b98d-d3ce7282e281"
      },
      "execution_count": 1,
      "outputs": [
        {
          "output_type": "stream",
          "name": "stdout",
          "text": [
            "['green', 'blue']\n",
            "['red', 'pink', 'black', 'orange']\n"
          ]
        }
      ]
    },
    {
      "cell_type": "markdown",
      "source": [
        "#However, you can use slicing to extract data from immutable sequences. For example:"
      ],
      "metadata": {
        "id": "gTATLMUf-LGS"
      }
    },
    {
      "cell_type": "code",
      "source": [
        "topic = 'Python Slicing'\n",
        "\n",
        "# Extract data\n",
        "print(topic[0:6])"
      ],
      "metadata": {
        "colab": {
          "base_uri": "https://localhost:8080/"
        },
        "id": "yorym0Z1-P4-",
        "outputId": "c316fcef-3f8c-45e0-fbe0-e9a04789a733"
      },
      "execution_count": 3,
      "outputs": [
        {
          "output_type": "stream",
          "name": "stdout",
          "text": [
            "Python\n"
          ]
        }
      ]
    },
    {
      "cell_type": "markdown",
      "source": [
        "#If you attempt to use slicing to assign data to an immutable sequence, you’ll get an error. For example:"
      ],
      "metadata": {
        "id": "XR7YH1LP-iRH"
      }
    },
    {
      "cell_type": "code",
      "source": [
        "topic[0:6] = 'Java'"
      ],
      "metadata": {
        "colab": {
          "base_uri": "https://localhost:8080/",
          "height": 165
        },
        "id": "YMv4J3Jo_1MI",
        "outputId": "e63d075a-1c46-49dd-9087-33a8ef0ed8e4"
      },
      "execution_count": 5,
      "outputs": [
        {
          "output_type": "error",
          "ename": "NameError",
          "evalue": "ignored",
          "traceback": [
            "\u001b[0;31m---------------------------------------------------------------------------\u001b[0m",
            "\u001b[0;31mNameError\u001b[0m                                 Traceback (most recent call last)",
            "\u001b[0;32m<ipython-input-5-960de99afcc6>\u001b[0m in \u001b[0;36m<module>\u001b[0;34m\u001b[0m\n\u001b[0;32m----> 1\u001b[0;31m \u001b[0mtopic1\u001b[0m\u001b[0;34m[\u001b[0m\u001b[0;36m0\u001b[0m\u001b[0;34m:\u001b[0m\u001b[0;36m6\u001b[0m\u001b[0;34m]\u001b[0m \u001b[0;34m=\u001b[0m \u001b[0;34m'Java'\u001b[0m\u001b[0;34m\u001b[0m\u001b[0;34m\u001b[0m\u001b[0m\n\u001b[0m",
            "\u001b[0;31mNameError\u001b[0m: name 'topic1' is not defined"
          ]
        }
      ]
    },
    {
      "cell_type": "markdown",
      "source": [
        "#The slicing seq[start:stop] returns the elements starting at the index start up to the index stop - 1.\n",
        "\n",
        "#Therefore, it’s easier to visualize that the indexes are between the elements when you slice the sequence:"
      ],
      "metadata": {
        "id": "FHFymMYNAKJo"
      }
    },
    {
      "cell_type": "markdown",
      "source": [
        "![Python-Slicing.png](data:image/png;base64,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)"
      ],
      "metadata": {
        "id": "BDVng2CiARvW"
      }
    },
    {
      "cell_type": "markdown",
      "source": [
        "#Python slice type\n",
        "Everything in Python is an object including the slice. \n",
        "\n",
        "A slice is actually an object of the slice type. When you use the slicing notation:"
      ],
      "metadata": {
        "id": "OKpsvmsiAThh"
      }
    },
    {
      "cell_type": "markdown",
      "source": [
        "#seq[start:stop]"
      ],
      "metadata": {
        "id": "HbfM-HMKAfgF"
      }
    },
    {
      "cell_type": "markdown",
      "source": [
        "#The start:stop is a slice object."
      ],
      "metadata": {
        "id": "yMIYu3yLAi41"
      }
    },
    {
      "cell_type": "markdown",
      "source": [
        "#slice(start, stop)"
      ],
      "metadata": {
        "id": "ZDOTl5OtAmQv"
      }
    },
    {
      "cell_type": "markdown",
      "source": [
        "For example:\n",
        "\n"
      ],
      "metadata": {
        "id": "cZmsQBy8Axr3"
      }
    },
    {
      "cell_type": "code",
      "source": [
        "s = slice(1, 3)\n",
        "print(type(s))\n",
        "print(s.start, s.stop)"
      ],
      "metadata": {
        "colab": {
          "base_uri": "https://localhost:8080/"
        },
        "id": "iKxK01FOA2AP",
        "outputId": "9dcfac79-9f0e-467d-87f0-b5a56943f7ca"
      },
      "execution_count": 7,
      "outputs": [
        {
          "output_type": "stream",
          "name": "stdout",
          "text": [
            "<class 'slice'>\n",
            "1 3\n"
          ]
        }
      ]
    },
    {
      "cell_type": "markdown",
      "source": [
        "#So instead of using the slicing notation:"
      ],
      "metadata": {
        "id": "vTFTu1aeBGTm"
      }
    },
    {
      "cell_type": "code",
      "source": [
        "colors[1:3]"
      ],
      "metadata": {
        "colab": {
          "base_uri": "https://localhost:8080/"
        },
        "id": "Rtl6YgWBBJW4",
        "outputId": "4ad5129a-1ae9-4514-a18b-54e9d0ea5b69"
      },
      "execution_count": 8,
      "outputs": [
        {
          "output_type": "execute_result",
          "data": {
            "text/plain": [
              "['pink', 'black']"
            ]
          },
          "metadata": {},
          "execution_count": 8
        }
      ]
    },
    {
      "cell_type": "markdown",
      "source": [
        "#we can use the slice object instead:"
      ],
      "metadata": {
        "id": "flcp90bOBT3v"
      }
    },
    {
      "cell_type": "code",
      "source": [
        "colors = ['red', 'green', 'blue', 'orange']\n",
        "s = slice(1, 3)\n",
        "print(colors[s])"
      ],
      "metadata": {
        "colab": {
          "base_uri": "https://localhost:8080/"
        },
        "id": "g4mA66_yBSWh",
        "outputId": "d81f502d-9608-4492-d376-2bfac498d044"
      },
      "execution_count": 9,
      "outputs": [
        {
          "output_type": "stream",
          "name": "stdout",
          "text": [
            "['green', 'blue']\n"
          ]
        }
      ]
    },
    {
      "cell_type": "markdown",
      "source": [
        "#Python Slicing: start and stop bounds\n",
        "The slice seq[start:stop] selects elements starting at the index start and \n",
        "\n",
        "stopping at the index stop (excluding the element at the index stop).\n",
        "\n",
        "In other words, it returns all elements of the sequence at the index n where n\n",
        "\n",
        " satisfies the following expression:\n",
        "\n",
        " #start <= n < stop\n",
        "\n",
        " When start or stop is greater than the length of the sequence:\n",
        "\n",
        "len(seq)"
      ],
      "metadata": {
        "id": "0PPaUOEvB2X0"
      }
    },
    {
      "cell_type": "markdown",
      "source": [
        "#Python uses len(seq) for the start or stop.\n",
        "\n",
        "Both start and stop are optional. The start defaults to 0 and stop defaults to len(seq) when you don’t specify it.\n",
        "\n",
        "The following example returns the entire list:"
      ],
      "metadata": {
        "id": "zzX6Po__CbCe"
      }
    },
    {
      "cell_type": "code",
      "source": [
        "colors = ['red', 'green', 'blue', 'orange']\n",
        "print(colors[0:100])"
      ],
      "metadata": {
        "colab": {
          "base_uri": "https://localhost:8080/"
        },
        "id": "wFxi3qMsCkre",
        "outputId": "05f43e81-1934-4d90-c529-1078e583bdd7"
      },
      "execution_count": 11,
      "outputs": [
        {
          "output_type": "stream",
          "name": "stdout",
          "text": [
            "['red', 'green', 'blue', 'orange']\n"
          ]
        }
      ]
    },
    {
      "cell_type": "markdown",
      "source": [
        "#Since the stop bound is 100, Python uses the len(colors) for the stop bound.\n",
        "\n",
        "#The following example returns an empty list:"
      ],
      "metadata": {
        "id": "BSwtGwqmCqNR"
      }
    },
    {
      "cell_type": "code",
      "source": [
        "colors = ['red', 'green', 'blue', 'orange']\n",
        "print(colors[10:])"
      ],
      "metadata": {
        "colab": {
          "base_uri": "https://localhost:8080/"
        },
        "id": "wuE3rV5LCooZ",
        "outputId": "beee081e-ae64-4b39-a608-26060439d0b1"
      },
      "execution_count": 13,
      "outputs": [
        {
          "output_type": "stream",
          "name": "stdout",
          "text": [
            "[]\n"
          ]
        }
      ]
    },
    {
      "cell_type": "markdown",
      "source": [
        "Because the start is 10, Python assigns the len(colors) to it."
      ],
      "metadata": {
        "id": "1IWkCWhUCn7W"
      }
    },
    {
      "cell_type": "markdown",
      "source": [
        "#Negative start and stop bounds\n",
        "The slice object also accepts negative start and stop bounds. The following example uses the negative start and stop bounds to slice a list:"
      ],
      "metadata": {
        "id": "-WVjBLReC69B"
      }
    },
    {
      "cell_type": "code",
      "source": [
        "colors = ['red', 'green', 'blue', 'orange']\n",
        "\n",
        "print(colors[-4:-2])"
      ],
      "metadata": {
        "colab": {
          "base_uri": "https://localhost:8080/"
        },
        "id": "UPo3EYYeDBM_",
        "outputId": "00fd7ea1-fa2b-4f68-fa15-77d3d903a750"
      },
      "execution_count": 14,
      "outputs": [
        {
          "output_type": "stream",
          "name": "stdout",
          "text": [
            "['red', 'green']\n"
          ]
        }
      ]
    },
    {
      "cell_type": "markdown",
      "source": [
        "To get the 'blue' and 'orange' elements from the colors list, \n",
        "\n",
        "we can combine the negative and positive bounds:"
      ],
      "metadata": {
        "id": "yGA2wrRsDlFo"
      }
    },
    {
      "cell_type": "code",
      "source": [
        "colors = ['red', 'green', 'blue', 'orange']\n",
        "print(colors[-2:4])"
      ],
      "metadata": {
        "colab": {
          "base_uri": "https://localhost:8080/"
        },
        "id": "oJP_ziaBDjM3",
        "outputId": "9cce31f0-7611-4b34-cda7-41087966a644"
      },
      "execution_count": 15,
      "outputs": [
        {
          "output_type": "stream",
          "name": "stdout",
          "text": [
            "['blue', 'orange']\n"
          ]
        }
      ]
    },
    {
      "cell_type": "markdown",
      "source": [
        "![Python-Slicing-Negative-Bounds.png](data:image/png;base64,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)"
      ],
      "metadata": {
        "id": "ysllfpwAC_YI"
      }
    },
    {
      "cell_type": "markdown",
      "source": [
        "#The step value\n",
        "Slices support the third argument, which is the step value. The step value defaults to 1 if you don’t specify it:"
      ],
      "metadata": {
        "id": "rS1n1p8cERmP"
      }
    },
    {
      "cell_type": "markdown",
      "source": [
        "#seq[star:stop:step]"
      ],
      "metadata": {
        "id": "WR9puCH5EbNn"
      }
    },
    {
      "cell_type": "markdown",
      "source": [
        "#It’s equivalent to:"
      ],
      "metadata": {
        "id": "SceZmOJ8EZHB"
      }
    },
    {
      "cell_type": "markdown",
      "source": [
        "#s = slice(start, stop, step) \n",
        "#seq[s]\n",
        "\n",
        "#See the following example:"
      ],
      "metadata": {
        "id": "0lYn4TlqEe_N"
      }
    },
    {
      "cell_type": "code",
      "source": [
        "colors = ['red', 'green', 'blue', 'orange']\n",
        "print(colors[0:4:2])"
      ],
      "metadata": {
        "colab": {
          "base_uri": "https://localhost:8080/"
        },
        "id": "4DMJNE50Ej_9",
        "outputId": "c42633e9-8032-438d-9d8d-e291c4354a6d"
      },
      "execution_count": 16,
      "outputs": [
        {
          "output_type": "stream",
          "name": "stdout",
          "text": [
            "['red', 'blue']\n"
          ]
        }
      ]
    }
  ]
}