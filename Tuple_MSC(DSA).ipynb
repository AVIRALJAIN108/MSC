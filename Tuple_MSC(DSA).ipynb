{
  "nbformat": 4,
  "nbformat_minor": 0,
  "metadata": {
    "colab": {
      "provenance": []
    },
    "kernelspec": {
      "name": "python3",
      "display_name": "Python 3"
    },
    "language_info": {
      "name": "python"
    }
  },
  "cells": [
    {
      "cell_type": "code",
      "execution_count": null,
      "metadata": {
        "id": "B22rqA3x5gaO"
      },
      "outputs": [],
      "source": []
    },
    {
      "cell_type": "markdown",
      "source": [
        "#Tuple\n",
        "Tuples are used to store multiple items in a single variable.\n",
        "\n",
        " A tuple is a collection which is ordered and unchangeable.\n",
        "\n",
        "\n",
        "Tuples are written with round brackets."
      ],
      "metadata": {
        "id": "DNM29sbS8PVM"
      }
    },
    {
      "cell_type": "markdown",
      "source": [
        "#Allow Duplicates\n",
        "Since tuples are indexed, they can have items with the same value:"
      ],
      "metadata": {
        "id": "2SHSynBx8X-r"
      }
    },
    {
      "cell_type": "code",
      "source": [
        "MSC_Stu_Name = (\"X\", \"Y\", \"Z\",\"Z\")\n",
        "print(MSC_Stu_Name)"
      ],
      "metadata": {
        "colab": {
          "base_uri": "https://localhost:8080/"
        },
        "id": "gU9RPBFV8Xiu",
        "outputId": "21b15989-ea72-4171-b32d-9c348de777b4"
      },
      "execution_count": null,
      "outputs": [
        {
          "output_type": "stream",
          "name": "stdout",
          "text": [
            "('X', 'Y', 'Z', 'Z')\n"
          ]
        }
      ]
    },
    {
      "cell_type": "markdown",
      "source": [
        "#Tuple Length\n",
        "To determine how many items a tuple has, use the len() function:\n",
        "\n",
        "Example\n",
        "Print the number of items in the tuple:"
      ],
      "metadata": {
        "id": "stEut38s8mD7"
      }
    },
    {
      "cell_type": "code",
      "source": [
        "MSC_Stu_Name = (\"X\", \"Y\", \"Z\",\"Z\")\n",
        "print(len(MSC_Stu_Name))"
      ],
      "metadata": {
        "colab": {
          "base_uri": "https://localhost:8080/"
        },
        "id": "jptNI-rE8qLj",
        "outputId": "71a51149-c776-407c-ef23-f6a44eb1c15a"
      },
      "execution_count": null,
      "outputs": [
        {
          "output_type": "stream",
          "name": "stdout",
          "text": [
            "4\n"
          ]
        }
      ]
    },
    {
      "cell_type": "markdown",
      "source": [
        "#Create Tuple With One Item\n",
        "To create a tuple with only one item, you have to add a comma after the item, otherwise Python will not recognize it as a tuple.\n",
        "\n",
        "#Example\n",
        "One item tuple, remember the comma:"
      ],
      "metadata": {
        "id": "_wXp2TCI82De"
      }
    },
    {
      "cell_type": "code",
      "source": [
        "MSC_Stu_Name = (\"X\",)\n",
        "print(type(MSC_Stu_Name))\n",
        "\n",
        "#NOT a tuple\n",
        "MSC_Stu_Name = (\"X\")\n",
        "print(type(MSC_Stu_Name))"
      ],
      "metadata": {
        "colab": {
          "base_uri": "https://localhost:8080/"
        },
        "id": "FhmYFQAz9qTs",
        "outputId": "8e686068-5e19-4ece-f8da-f328c1ad61fe"
      },
      "execution_count": null,
      "outputs": [
        {
          "output_type": "stream",
          "name": "stdout",
          "text": [
            "<class 'tuple'>\n",
            "<class 'str'>\n"
          ]
        }
      ]
    },
    {
      "cell_type": "markdown",
      "source": [
        "#Tuple Items - Data Types\n",
        "Tuple items can be of any data type:\n",
        "\n",
        "#Example\n",
        "String, int and boolean data types:"
      ],
      "metadata": {
        "id": "iRTXIiB09-Bb"
      }
    },
    {
      "cell_type": "code",
      "source": [
        "tuple1 = (\"abc\", 34, True, 40, \"male\")"
      ],
      "metadata": {
        "id": "bPU-syP4-FQb"
      },
      "execution_count": null,
      "outputs": []
    },
    {
      "cell_type": "code",
      "source": [
        "tuple1"
      ],
      "metadata": {
        "colab": {
          "base_uri": "https://localhost:8080/"
        },
        "id": "QJoCzb2s-GxT",
        "outputId": "615a3552-7a57-45c5-be5c-b58ec6022a02"
      },
      "execution_count": null,
      "outputs": [
        {
          "output_type": "execute_result",
          "data": {
            "text/plain": [
              "('abc', 34, True, 40, 'male')"
            ]
          },
          "metadata": {},
          "execution_count": 7
        }
      ]
    },
    {
      "cell_type": "markdown",
      "source": [
        "#Access Tuple Items\n",
        "\n",
        "Example\n",
        "Print the second item in the tuple:"
      ],
      "metadata": {
        "id": "8nwNB38Z-Pir"
      }
    },
    {
      "cell_type": "code",
      "source": [
        "MSC_Stu_Name = (\"X\", \"Y\", \"Z\",\"Z\")\n",
        "print(MSC_Stu_Name[1])"
      ],
      "metadata": {
        "colab": {
          "base_uri": "https://localhost:8080/"
        },
        "id": "KNpkhkIN-Tc0",
        "outputId": "5db809de-fa08-428d-c96a-5c43ddd8aa09"
      },
      "execution_count": null,
      "outputs": [
        {
          "output_type": "stream",
          "name": "stdout",
          "text": [
            "Y\n"
          ]
        }
      ]
    },
    {
      "cell_type": "markdown",
      "source": [
        "#Negative Indexing\n",
        "Negative indexing means start from the end.\n",
        "\n",
        "-1 refers to the last item, -2 refers to the second last item etc."
      ],
      "metadata": {
        "id": "ghaqNsus-phi"
      }
    },
    {
      "cell_type": "code",
      "source": [
        "MSC_Stu_Name = (\"X\", \"Y\", \"Z\",\"Z\")\n",
        "print(MSC_Stu_Name[-2])"
      ],
      "metadata": {
        "colab": {
          "base_uri": "https://localhost:8080/"
        },
        "id": "52uxg3PP_98c",
        "outputId": "29cd6055-aeb4-40f1-eaa5-650bd604eab3"
      },
      "execution_count": null,
      "outputs": [
        {
          "output_type": "stream",
          "name": "stdout",
          "text": [
            "Z\n"
          ]
        }
      ]
    },
    {
      "cell_type": "markdown",
      "source": [
        "#Range of Indexes\n",
        "We can specify a range of indexes by specifying where to start and where to end the range.\n",
        "\n",
        "When specifying a range, the return value will be a new tuple with the specified items."
      ],
      "metadata": {
        "id": "uHVQ0cGBAKKL"
      }
    },
    {
      "cell_type": "code",
      "source": [
        "MSC_Stu_Name = (\"X\", \"Y\", \"Z\",\"Z\")\n",
        "print(MSC_Stu_Name[2:4])"
      ],
      "metadata": {
        "colab": {
          "base_uri": "https://localhost:8080/"
        },
        "id": "Y-HztqTAAPx2",
        "outputId": "93a0afac-322f-449d-fc94-0d39c4476449"
      },
      "execution_count": null,
      "outputs": [
        {
          "output_type": "stream",
          "name": "stdout",
          "text": [
            "('Z', 'Z')\n"
          ]
        }
      ]
    },
    {
      "cell_type": "markdown",
      "source": [
        "#Range of Negative Indexes\n",
        "Specify negative indexes if you want to start the search from the end of the tuple:\n",
        "\n",
        "#Example\n",
        "This example returns the items from index -4 (included) to index -1 (excluded)"
      ],
      "metadata": {
        "id": "TPCJMdPaAcVk"
      }
    },
    {
      "cell_type": "code",
      "source": [
        "MSC_Stu_Name = (\"X\", \"Y\", \"Z\",\"Z\")\n",
        "print(MSC_Stu_Name[-4:-1])"
      ],
      "metadata": {
        "colab": {
          "base_uri": "https://localhost:8080/"
        },
        "id": "Seyrq1MaAg4D",
        "outputId": "34792620-51ef-4a02-b3c0-e278386dd915"
      },
      "execution_count": null,
      "outputs": [
        {
          "output_type": "stream",
          "name": "stdout",
          "text": [
            "('X', 'Y', 'Z')\n"
          ]
        }
      ]
    },
    {
      "cell_type": "markdown",
      "source": [
        "#Check if Item Exists\n",
        "To determine if a specified item is present in a tuple use the in keyword:\n",
        "\n",
        "#Example\n",
        "Check if \"X\" is present in the tuple:"
      ],
      "metadata": {
        "id": "jIHMIz47AwUI"
      }
    },
    {
      "cell_type": "code",
      "source": [
        "MSC_Stu_Name = (\"X\", \"Y\", \"Z\",\"Z\")\n",
        "if \"X\" in MSC_Stu_Name:\n",
        "  print(\"Yes, 'X' is in the Stu Name\")"
      ],
      "metadata": {
        "colab": {
          "base_uri": "https://localhost:8080/"
        },
        "id": "rzOVqUZEA9Ju",
        "outputId": "da844710-8643-47ec-ed1a-4b4e54672e23"
      },
      "execution_count": null,
      "outputs": [
        {
          "output_type": "stream",
          "name": "stdout",
          "text": [
            "Yes, 'X' is in the Stu Name\n"
          ]
        }
      ]
    },
    {
      "cell_type": "markdown",
      "source": [
        "#Change Tuple Values\n",
        "Once a tuple is created, you cannot change its values. Tuples are unchangeable, or immutable as it also is called.\n",
        "\n",
        "But there is a workaround. we can convert the tuple into a list, change the list, and convert the list back into a tuple.\n",
        "\n",
        "#Example\n",
        "Convert the tuple into a list to be able to change it:"
      ],
      "metadata": {
        "id": "e-VxaFUgBZXy"
      }
    },
    {
      "cell_type": "code",
      "source": [
        "MSC_Stu_Name = (\"X\", \"Y\", \"Z\",\"Z\")\n",
        "y = list(MSC_Stu_Name)\n",
        "y[1] = \"kiwi\"\n",
        "x = tuple(y)\n",
        "print(x)\n",
        "\n"
      ],
      "metadata": {
        "colab": {
          "base_uri": "https://localhost:8080/"
        },
        "id": "lfe2Wo8cA2Uo",
        "outputId": "e673117e-30b1-4d77-d897-453f16148b9c"
      },
      "execution_count": null,
      "outputs": [
        {
          "output_type": "stream",
          "name": "stdout",
          "text": [
            "('X', 'kiwi', 'Z', 'Z')\n"
          ]
        }
      ]
    },
    {
      "cell_type": "markdown",
      "source": [
        "#Add Items\n",
        "Since tuples are immutable, they do not have a build-in append() method, but there are other ways to add items to a tuple.\n",
        "\n",
        "1. Convert into a list: Just like the workaround for changing a tuple, you can convert it into a list, add your item(s), and convert it back into a tuple.\n",
        "\n",
        "Example\n",
        "Convert the tuple into a list, add \"Q\", and convert it back into a tuple:"
      ],
      "metadata": {
        "id": "Vm8KCFeUChtz"
      }
    },
    {
      "cell_type": "code",
      "source": [
        "MSC_Stu_Name = (\"X\", \"Y\", \"Z\",\"Z\")\n",
        "y = list(MSC_Stu_Name)\n",
        "y.append(\"Q\")\n",
        "thistuple = tuple(y)\n",
        "thistuple"
      ],
      "metadata": {
        "colab": {
          "base_uri": "https://localhost:8080/"
        },
        "id": "XK_HooAvCuQl",
        "outputId": "99a9aec6-c215-4dbc-80b0-2a5697e33c88"
      },
      "execution_count": null,
      "outputs": [
        {
          "output_type": "execute_result",
          "data": {
            "text/plain": [
              "('X', 'Y', 'Z', 'Z', 'Q')"
            ]
          },
          "metadata": {},
          "execution_count": 16
        }
      ]
    },
    {
      "cell_type": "markdown",
      "source": [
        "#Add tuple to a tuple. You are allowed to add tuples to tuples, \n",
        "\n",
        "#so if you want to add one item, (or many), create a new tuple with the item(s), and add it to the existing tuple:"
      ],
      "metadata": {
        "id": "qkJ9ChI2D0l0"
      }
    },
    {
      "cell_type": "markdown",
      "source": [
        "#Example\n",
        "Create a new tuple with the value \"Q\", and add that tuple:"
      ],
      "metadata": {
        "id": "ddIsLyTwEAdi"
      }
    },
    {
      "cell_type": "code",
      "source": [
        "MSC_Stu_Name = (\"X\", \"Y\", \"Z\",\"Z\")\n",
        "y =  (\"Q\",)\n",
        "MSC_Stu_Name+= y \n",
        "print(MSC_Stu_Name)\n",
        " "
      ],
      "metadata": {
        "colab": {
          "base_uri": "https://localhost:8080/"
        },
        "id": "ev-e2SvWEKqT",
        "outputId": "6ec7030f-576e-49f9-d72b-45f41cf8b1aa"
      },
      "execution_count": null,
      "outputs": [
        {
          "output_type": "stream",
          "name": "stdout",
          "text": [
            "('X', 'Y', 'Z', 'Z', 'Q')\n"
          ]
        }
      ]
    },
    {
      "cell_type": "markdown",
      "source": [
        "#Remove Items\n",
        "Note: We cannot remove items in a tuple.\n",
        "\n",
        "Tuples are unchangeable, so you cannot remove items from it, but you can use the same workaround as we used for changing and adding tuple items:\n",
        "\n",
        "Example\n",
        "Convert the tuple into a list, remove \"X\", and convert it back into a tuple:"
      ],
      "metadata": {
        "id": "1kDbn4R4FJJL"
      }
    },
    {
      "cell_type": "code",
      "source": [
        "MSC_Stu_Name = (\"X\", \"Y\", \"Z\",\"Z\")\n",
        "y = list(MSC_Stu_Name)\n",
        "y.remove(\"X\")\n",
        "MSC_Stu_Name = tuple(y)\n",
        "print(MSC_Stu_Name)"
      ],
      "metadata": {
        "colab": {
          "base_uri": "https://localhost:8080/"
        },
        "id": "ELh6tuvXFmPr",
        "outputId": "c1a52202-809d-4b40-fcdd-237c984fb10c"
      },
      "execution_count": null,
      "outputs": [
        {
          "output_type": "stream",
          "name": "stdout",
          "text": [
            "('Y', 'Z', 'Z')\n"
          ]
        }
      ]
    },
    {
      "cell_type": "markdown",
      "source": [
        "we can delete the tuple completely:\n",
        "\n",
        "Example\n",
        "The del keyword can delete the tuple completely:"
      ],
      "metadata": {
        "id": "a4kTH2NLGxtk"
      }
    },
    {
      "cell_type": "code",
      "source": [
        "thistuple = (\"apple\", \"banana\", \"cherry\")\n",
        "del thistuple\n",
        "print(thistuple) #this will raise an error because the tuple no longer exists"
      ],
      "metadata": {
        "colab": {
          "base_uri": "https://localhost:8080/",
          "height": 200
        },
        "id": "85Zv9qESG367",
        "outputId": "274a0168-679b-45aa-a47d-01d3719842b0"
      },
      "execution_count": null,
      "outputs": [
        {
          "output_type": "error",
          "ename": "NameError",
          "evalue": "ignored",
          "traceback": [
            "\u001b[0;31m---------------------------------------------------------------------------\u001b[0m",
            "\u001b[0;31mNameError\u001b[0m                                 Traceback (most recent call last)",
            "\u001b[0;32m<ipython-input-19-8a57ed92fc5d>\u001b[0m in \u001b[0;36m<module>\u001b[0;34m\u001b[0m\n\u001b[1;32m      1\u001b[0m \u001b[0mthistuple\u001b[0m \u001b[0;34m=\u001b[0m \u001b[0;34m(\u001b[0m\u001b[0;34m\"apple\"\u001b[0m\u001b[0;34m,\u001b[0m \u001b[0;34m\"banana\"\u001b[0m\u001b[0;34m,\u001b[0m \u001b[0;34m\"cherry\"\u001b[0m\u001b[0;34m)\u001b[0m\u001b[0;34m\u001b[0m\u001b[0;34m\u001b[0m\u001b[0m\n\u001b[1;32m      2\u001b[0m \u001b[0;32mdel\u001b[0m \u001b[0mthistuple\u001b[0m\u001b[0;34m\u001b[0m\u001b[0;34m\u001b[0m\u001b[0m\n\u001b[0;32m----> 3\u001b[0;31m \u001b[0mprint\u001b[0m\u001b[0;34m(\u001b[0m\u001b[0mthistuple\u001b[0m\u001b[0;34m)\u001b[0m \u001b[0;31m#this will raise an error because the tuple no longer exists\u001b[0m\u001b[0;34m\u001b[0m\u001b[0;34m\u001b[0m\u001b[0m\n\u001b[0m",
            "\u001b[0;31mNameError\u001b[0m: name 'thistuple' is not defined"
          ]
        }
      ]
    },
    {
      "cell_type": "markdown",
      "source": [
        "#Python - Unpack Tuples\n",
        "\n",
        "#Unpacking a Tuple\n",
        "When we create a tuple, we normally assign values to it. This is called \"packing\" a tuple:\n",
        "\n",
        "Example\n",
        "Packing a tuple:"
      ],
      "metadata": {
        "id": "5L6-5fQpHk5K"
      }
    },
    {
      "cell_type": "code",
      "source": [
        "MSC_Stu_Name = (\"X\", \"Y\", \"Z\",\"Z\")"
      ],
      "metadata": {
        "id": "f2Xpi1GpHzvB"
      },
      "execution_count": null,
      "outputs": []
    },
    {
      "cell_type": "markdown",
      "source": [
        "But, in Python, we are also allowed to extract the values back into variables. This is called \"unpacking\":\n",
        "#Example\n",
        "Unpacking a tuple:"
      ],
      "metadata": {
        "id": "zSZyBlFcIEXK"
      }
    },
    {
      "cell_type": "code",
      "source": [
        "MSC_Stu_Name = (\"X\", \"Y\", \"Z\",\"Z\")\n",
        "\n",
        "(P, Q, R,S) = MSC_Stu_Name \n",
        "\n",
        "print(P)\n",
        "print(Q)\n",
        "print(R)"
      ],
      "metadata": {
        "colab": {
          "base_uri": "https://localhost:8080/"
        },
        "id": "SrKLLDYrIU07",
        "outputId": "101b0d75-b2a2-4076-f612-58260ed4e88c"
      },
      "execution_count": null,
      "outputs": [
        {
          "output_type": "stream",
          "name": "stdout",
          "text": [
            "X\n",
            "Y\n",
            "Z\n"
          ]
        }
      ]
    },
    {
      "cell_type": "markdown",
      "source": [
        "#Note: The number of variables must match the number of values in the tuple, if not, you must use an asterisk to collect the remaining values as a list."
      ],
      "metadata": {
        "id": "Y_vMqwb8JAf6"
      }
    },
    {
      "cell_type": "markdown",
      "source": [
        "#Using Asterisk*\n",
        "If the number of variables is less than the number of values, We can add an * \n",
        "\n",
        "to the variable name and the values will be assigned to the variable as a list:"
      ],
      "metadata": {
        "id": "iCbB3ywVJG1D"
      }
    },
    {
      "cell_type": "code",
      "source": [
        "MSC_Stu_Name = (\"X\", \"Y\", \"Z\",\"Z\")\n",
        "\n",
        "(P, Q, *R ) = MSC_Stu_Name \n",
        "\n",
        "print(P)\n",
        "print(Q)\n",
        "print(R)"
      ],
      "metadata": {
        "colab": {
          "base_uri": "https://localhost:8080/"
        },
        "id": "UXQXg8mpJcw9",
        "outputId": "608dcfdf-a7f7-4b7a-87de-77d1d44cb99a"
      },
      "execution_count": null,
      "outputs": [
        {
          "output_type": "stream",
          "name": "stdout",
          "text": [
            "X\n",
            "['Y', 'Z']\n",
            "Z\n"
          ]
        }
      ]
    },
    {
      "cell_type": "markdown",
      "source": [
        "#If the asterisk is added to another variable name than the last, Python will assign values to the variable until the number of values left matches the number of variables left.\n",
        "\n",
        "Example\n",
        "Add a list of values the \"tropic\" variable:"
      ],
      "metadata": {
        "id": "5-MYOpagJnkK"
      }
    },
    {
      "cell_type": "code",
      "source": [
        "MSC_Stu_Name = (\"X\", \"Y\", \"Z\",\"Z\")\n",
        "\n",
        "(P, *Q, R ) = MSC_Stu_Name \n",
        "\n",
        "print(P)\n",
        "print(Q)\n",
        "print(R)"
      ],
      "metadata": {
        "colab": {
          "base_uri": "https://localhost:8080/"
        },
        "id": "cLHRvXMqJurS",
        "outputId": "99c6fa04-9751-4c99-eec7-ce7949d1b8de"
      },
      "execution_count": null,
      "outputs": [
        {
          "output_type": "stream",
          "name": "stdout",
          "text": [
            "X\n",
            "['Y', 'Z']\n",
            "Z\n"
          ]
        }
      ]
    },
    {
      "cell_type": "markdown",
      "source": [
        "#Python - Loop Tuples\n",
        "\n",
        "#Loop Through a Tuple\n",
        "We can loop through the tuple items by using a for loop.\n",
        "\n",
        "Example\n",
        "Iterate through the items and print the values:"
      ],
      "metadata": {
        "id": "kBL1uPu2J5tS"
      }
    },
    {
      "cell_type": "code",
      "source": [
        "MSC_Stu_Name = (\"X\", \"Y\", \"Z\",\"Z\")\n",
        "for i in MSC_Stu_Name:\n",
        "  print(i)"
      ],
      "metadata": {
        "colab": {
          "base_uri": "https://localhost:8080/"
        },
        "id": "A-OL9JG7KHEb",
        "outputId": "e84cbd52-2244-42fa-c6a4-02338b2d263d"
      },
      "execution_count": null,
      "outputs": [
        {
          "output_type": "stream",
          "name": "stdout",
          "text": [
            "X\n",
            "Y\n",
            "Z\n",
            "Z\n"
          ]
        }
      ]
    },
    {
      "cell_type": "markdown",
      "source": [
        "#Loop Through the Index Numbers\n",
        "We can also loop through the tuple items by referring to their index number.\n",
        "\n",
        "Use the range() and len() functions to create a suitable iterable."
      ],
      "metadata": {
        "id": "oqGRabnHKRnj"
      }
    },
    {
      "cell_type": "code",
      "source": [
        "MSC_Stu_Name = (\"X\", \"Y\", \"Z\",\"Z\")\n",
        "for i in range(len(MSC_Stu_Name)):\n",
        "  print(MSC_Stu_Name[i])"
      ],
      "metadata": {
        "colab": {
          "base_uri": "https://localhost:8080/"
        },
        "id": "V_pEyFXVKbR6",
        "outputId": "20c3ad52-db44-4983-bddd-1a92edfa9943"
      },
      "execution_count": null,
      "outputs": [
        {
          "output_type": "stream",
          "name": "stdout",
          "text": [
            "X\n",
            "Y\n",
            "Z\n",
            "Z\n"
          ]
        }
      ]
    },
    {
      "cell_type": "markdown",
      "source": [
        "#Python - Join Tuples"
      ],
      "metadata": {
        "id": "HDj08OOpLUCC"
      }
    },
    {
      "cell_type": "markdown",
      "source": [
        "#Join Two Tuples\n",
        "To join two or more tuples you can use the + operator:\n",
        "\n",
        "#Example\n",
        "Join two tuples:"
      ],
      "metadata": {
        "id": "3lYFIIXKLYUG"
      }
    },
    {
      "cell_type": "code",
      "source": [
        "tuple1 = (\"a\", \"b\" , \"c\")\n",
        "tuple2 = (1, 2, 3)\n",
        "\n",
        "tuple3 = tuple1 + tuple2\n",
        "print(tuple3)"
      ],
      "metadata": {
        "colab": {
          "base_uri": "https://localhost:8080/"
        },
        "id": "d32APlLlLetx",
        "outputId": "2f1f8977-019c-431a-dce1-79da42689b85"
      },
      "execution_count": null,
      "outputs": [
        {
          "output_type": "stream",
          "name": "stdout",
          "text": [
            "('a', 'b', 'c', 1, 2, 3)\n"
          ]
        }
      ]
    },
    {
      "cell_type": "markdown",
      "source": [
        "#Multiply Tuples\n",
        "If we want to multiply the content of a tuple a given number of times,we can use the * operator:\n",
        "\n",
        "Example\n",
        "Multiply the fruits tuple by 2:"
      ],
      "metadata": {
        "id": "jRrY7249Ljdc"
      }
    },
    {
      "cell_type": "code",
      "source": [
        "MSC_Stu_Name = (\"X\", \"Y\", \"Z\",\"Z\")\n",
        "mytuple = MSC_Stu_Name * 2\n",
        "\n",
        "print(mytuple)"
      ],
      "metadata": {
        "colab": {
          "base_uri": "https://localhost:8080/"
        },
        "id": "QUS0jP-_LrJ7",
        "outputId": "ab050d66-3156-4f32-c95b-83223bbef810"
      },
      "execution_count": null,
      "outputs": [
        {
          "output_type": "stream",
          "name": "stdout",
          "text": [
            "('X', 'Y', 'Z', 'Z', 'X', 'Y', 'Z', 'Z')\n"
          ]
        }
      ]
    },
    {
      "cell_type": "markdown",
      "source": [
        "#Tuple Methods\n",
        "Python has two built-in methods that you can use on tuples.\n",
        "\n",
        "#Method\tDescription\n",
        "count()\tReturns the number of times a specified value occurs in a tuple\n",
        "index()\tSearches the tuple for a specified value and returns the position of where it was found"
      ],
      "metadata": {
        "id": "jSqEtkNLL3nS"
      }
    },
    {
      "cell_type": "markdown",
      "source": [
        "#Python Tuple count() Method\n",
        "Example\n",
        "Return the number of times the value 5 appears in the tuple"
      ],
      "metadata": {
        "id": "-GHJAYUkMedC"
      }
    },
    {
      "cell_type": "code",
      "source": [
        "thistuple = (1, 3, 7, 8, 7, 5, 4, 6, 8, 5)\n",
        "\n",
        "x = thistuple.count(5)\n",
        "\n",
        "print(x)"
      ],
      "metadata": {
        "colab": {
          "base_uri": "https://localhost:8080/"
        },
        "id": "uwS2fsnXMkrh",
        "outputId": "fc93f7a4-9a2d-44f8-a750-b673cc17cfff"
      },
      "execution_count": null,
      "outputs": [
        {
          "output_type": "stream",
          "name": "stdout",
          "text": [
            "2\n"
          ]
        }
      ]
    },
    {
      "cell_type": "markdown",
      "source": [
        "#Python Tuple index() Method\n",
        "\n",
        "Example\n",
        "Search for the first occurrence of the value 8, and return its position:"
      ],
      "metadata": {
        "id": "415sla8rM6i6"
      }
    },
    {
      "cell_type": "code",
      "source": [
        "thistuple = (1, 3, 7, 8, 7, 5, 4, 6, 8, 5)\n",
        "\n",
        "x = thistuple.index(8)\n",
        "\n",
        "print(x)"
      ],
      "metadata": {
        "colab": {
          "base_uri": "https://localhost:8080/"
        },
        "id": "g5UUNAYLNDxX",
        "outputId": "5062eb2c-889a-4866-9487-23c779288ee5"
      },
      "execution_count": null,
      "outputs": [
        {
          "output_type": "stream",
          "name": "stdout",
          "text": [
            "3\n"
          ]
        }
      ]
    },
    {
      "cell_type": "markdown",
      "source": [
        "#Tuple Slicing"
      ],
      "metadata": {
        "id": "v94TLlf0RBqG"
      }
    },
    {
      "cell_type": "code",
      "source": [
        "x = (101, 102, 103, 104, 105, 106, 107)\n",
        "print(\"Original Tuple\")\n",
        "n = len(x)\n",
        "for i in range(n):\n",
        "\tprint(i, \"=\", x[i])\n",
        "print()\t\n",
        "\n",
        "print(\"From 1st Position to 4th Position\")\n",
        "a = x[1:5]\n",
        "for i in a:\n",
        "\tprint(i)\n",
        "print()\t\n",
        "\t\n",
        "print(\"From 0th Position to last Position\")\n",
        "b = x[0:]\n",
        "for i in b:\n",
        "\tprint(i)\n",
        "print()\t\n",
        "\t\n",
        "print(\"From 0th Position to 4th Position\")\n",
        "c = x[:5]\n",
        "for i in c:\n",
        "\tprint(i)\n",
        "print()\t\n",
        "\n",
        "print(\"Last 4 Elements\")\n",
        "d = x[-4:]\n",
        "for i in d:\n",
        "\tprint(i)\n",
        "print()\t\n",
        "\t\n",
        "print(\"From 0th Position to 6th Position stride 2\")\n",
        "e = x[0:7:2]\n",
        "for i in e:\n",
        "\tprint(i)\n",
        "print()\t\n",
        "\t\n",
        "print(\"Last 5 Elements with [-5-(-3)]= 2 elements towards right\")\n",
        "f = x[-5:-3]\n",
        "for i in f:\n",
        "\tprint(i)"
      ],
      "metadata": {
        "colab": {
          "base_uri": "https://localhost:8080/"
        },
        "id": "NNJcuhADRJqQ",
        "outputId": "e7f089ca-fb98-4e66-ebe6-e2e16583820f"
      },
      "execution_count": null,
      "outputs": [
        {
          "output_type": "stream",
          "name": "stdout",
          "text": [
            "Original Tuple\n",
            "0 = 101\n",
            "1 = 102\n",
            "2 = 103\n",
            "3 = 104\n",
            "4 = 105\n",
            "5 = 106\n",
            "6 = 107\n",
            "\n",
            "From 1st Position to 4th Position\n",
            "102\n",
            "103\n",
            "104\n",
            "105\n",
            "\n",
            "From 0th Position to last Position\n",
            "101\n",
            "102\n",
            "103\n",
            "104\n",
            "105\n",
            "106\n",
            "107\n",
            "\n",
            "From 0th Position to 4th Position\n",
            "101\n",
            "102\n",
            "103\n",
            "104\n",
            "105\n",
            "\n",
            "Last 4 Elements\n",
            "104\n",
            "105\n",
            "106\n",
            "107\n",
            "\n",
            "From 0th Position to 6th Position stride 2\n",
            "101\n",
            "103\n",
            "105\n",
            "107\n",
            "\n",
            "Last 5 Elements with [-5-(-3)]= 2 elements towards right\n",
            "103\n",
            "104\n"
          ]
        }
      ]
    },
    {
      "cell_type": "markdown",
      "source": [
        "#Tuple Concat"
      ],
      "metadata": {
        "id": "E13RDdKiRmU_"
      }
    },
    {
      "cell_type": "code",
      "source": [
        "a = (10, 20, 30)\n",
        "b = (1, 2, 3)\n",
        "c = (101, 102, 103)\n",
        "\n",
        "print(a)\n",
        "print(b)\n",
        "print(c)\n",
        "\n",
        "result = a + b + c\n",
        "\n",
        "print(result)"
      ],
      "metadata": {
        "colab": {
          "base_uri": "https://localhost:8080/"
        },
        "id": "mA36zxByRpgP",
        "outputId": "7de0f1f2-8ea8-451d-f200-6e05338d170a"
      },
      "execution_count": null,
      "outputs": [
        {
          "output_type": "stream",
          "name": "stdout",
          "text": [
            "(10, 20, 30)\n",
            "(1, 2, 3)\n",
            "(101, 102, 103)\n",
            "(10, 20, 30, 1, 2, 3, 101, 102, 103)\n"
          ]
        }
      ]
    },
    {
      "cell_type": "markdown",
      "source": [
        "#Tuple MOdified"
      ],
      "metadata": {
        "id": "-7pZforzRwV_"
      }
    },
    {
      "cell_type": "code",
      "source": [
        "# Modifying Tuple\n",
        "\n",
        "a = (10, 20, -50, 21.3, 'MSC(DSA)')\n",
        "print(a)\n",
        "print()\n",
        "\n",
        "# Not Possible to Modify like below line\n",
        "#a[1] = 40\t\t# Show TypeError\n",
        "\n",
        "# It is not possible to modify a tuple but we can concate or slice\n",
        "# to achieve desired tuple\n",
        "\n",
        "# By concatenation\n",
        "print(\"Modification by Concatenation\")\n",
        "b = (40, 50)\n",
        "tup1 = a + b\n",
        "print(tup1)\n",
        "\n",
        "print()\n",
        "\n",
        "# By Slicing\n",
        "print(\"Modification by Slicing\")\n",
        "tup2 = a[0:3]\n",
        "print(tup2)\n",
        "\n",
        "print()\n",
        "\n",
        "# By Concatenation and Slicing\n",
        "print(\"Modification by Concatenation and Slicing\")\n",
        "c = (101, 102)\n",
        "s1 = a[0:2]\n",
        "s2 = a[3:]\n",
        "tup3 = s1+c+s2\n",
        "print(tup3)\n",
        "\n",
        "print()\n"
      ],
      "metadata": {
        "colab": {
          "base_uri": "https://localhost:8080/"
        },
        "id": "8IUKeYHSSDGn",
        "outputId": "435d5b0b-a60a-4aaa-c19b-0526216cbb6a"
      },
      "execution_count": null,
      "outputs": [
        {
          "output_type": "stream",
          "name": "stdout",
          "text": [
            "(10, 20, -50, 21.3, 'MSC(DSA)')\n",
            "\n",
            "Modification by Concatenation\n",
            "(10, 20, -50, 21.3, 'MSC(DSA)', 40, 50)\n",
            "\n",
            "Modification by Slicing\n",
            "(10, 20, -50)\n",
            "\n",
            "Modification by Concatenation and Slicing\n",
            "(10, 20, 101, 102, 21.3, 'MSC(DSA)')\n",
            "\n"
          ]
        }
      ]
    },
    {
      "cell_type": "markdown",
      "source": [
        "#Tuple Deletion"
      ],
      "metadata": {
        "id": "O4ucJwT-ST4H"
      }
    },
    {
      "cell_type": "code",
      "source": [
        "# Deleting Tuple\n",
        "\n",
        "a = (10, 20, -50, 21.3, 'MSC(DSA)')\n",
        "print(a)\n",
        "print()\n",
        "\n",
        "# Not Possible to delete one element like below line\n",
        "#del a[1] \t\t# Show TypeError\n",
        "\n",
        "# We can delete entire tuple\n",
        "#del a\n",
        "\n",
        "#print(a)\t\t# after deleting entire tuple a become undefined\n",
        "\n",
        "# It is not possible to delete one element but we can concate or slice\n",
        "# to achieve desired tuple\n",
        "\n",
        "print()\n",
        "\n",
        "# By Slicing\n",
        "print(\"Deletion by Slicing\")\n",
        "tup1 = a[0:3]\n",
        "print(tup1)\n",
        "\n",
        "print()\n",
        "\n",
        "# By Concatenation and Slicing\n",
        "print(\"Deletion by Slicing and Concatenation\")\n",
        "s1 = a[0:2]\n",
        "s2 = a[4:]\n",
        "tup2 = s1+s2\n",
        "print(tup2)\n",
        "\n",
        "print()\n",
        "\n"
      ],
      "metadata": {
        "id": "XuaRD5AVSW0f"
      },
      "execution_count": null,
      "outputs": []
    },
    {
      "cell_type": "markdown",
      "source": [
        "#Getting Input From User"
      ],
      "metadata": {
        "id": "gCD3gC46SouS"
      }
    },
    {
      "cell_type": "code",
      "source": [
        "# Getting input from users - Tuple\n",
        "a = []\n",
        "\n",
        "n = int(input(\"Enter Number of Elements: \"))\n",
        "\n",
        "for i in range(n):\n",
        "\ta.append(int(input(\"Enter Element:\")))\n",
        "\n",
        "print(type(a))\n",
        "# convert list to tuple \n",
        "a = tuple(a)\n",
        "\n",
        "print(type(a))\n",
        "print(\"Tuple:\")\n",
        "for element in a:\n",
        "\tprint(element)\n"
      ],
      "metadata": {
        "id": "ionwwPzFStZ3"
      },
      "execution_count": null,
      "outputs": []
    },
    {
      "cell_type": "markdown",
      "source": [
        "#Tuple Repetation"
      ],
      "metadata": {
        "id": "i6P9_YuNS4nq"
      }
    },
    {
      "cell_type": "code",
      "source": [
        "a = (1, 2, 3)\n",
        "\n",
        "print(a)\n",
        "\n",
        "result = a * 3\n",
        "\n",
        "print(result)"
      ],
      "metadata": {
        "colab": {
          "base_uri": "https://localhost:8080/"
        },
        "id": "Y1SDpw1aLYvD",
        "outputId": "de1b6905-7cde-4b97-a8a8-1857e73fe2a0"
      },
      "execution_count": null,
      "outputs": [
        {
          "output_type": "stream",
          "name": "stdout",
          "text": [
            "(1, 2, 3)\n",
            "(1, 2, 3, 1, 2, 3, 1, 2, 3)\n"
          ]
        }
      ]
    },
    {
      "cell_type": "markdown",
      "source": [
        "#Tuple Aliasing"
      ],
      "metadata": {
        "id": "63zD2ZjWLiJJ"
      }
    },
    {
      "cell_type": "code",
      "source": [
        "a = (10, 20, 30, 40, 50)\n",
        "b = a\n",
        "print(\"A:\", a)\n",
        "print(\"B:\", b)\n",
        "print(\"Id of A:\", id(a))\n",
        "print(\"Id of B:\", id(b))\n",
        "\n",
        "print()\n",
        "a = a[:3]\n",
        "print(\"Id of A:\", id(a))\n",
        "print(\"Id of B:\", id(b))"
      ],
      "metadata": {
        "id": "bKwAQqc8LoBR"
      },
      "execution_count": null,
      "outputs": []
    },
    {
      "cell_type": "markdown",
      "source": [
        "#Tuple Copy"
      ],
      "metadata": {
        "id": "2XdWle8iL1Zx"
      }
    },
    {
      "cell_type": "code",
      "source": [
        "# Copying Tuple\n",
        "a = (10, 20, 30, 40, 50)\n",
        "b = a\n",
        "print(\"A:\", a)\n",
        "print(\"B:\", b)\n",
        "print(\"Id of A:\", id(a))\n",
        "print(\"Id of B:\", id(b))\n",
        "\n",
        "# if Same data then same object same id\n",
        "# if data modified it creates new object new id\n",
        "\n",
        "print()\n",
        "b = a[0:5]\n",
        "print(\"A:\", a)\n",
        "print(\"B:\", b)\n",
        "print(\"Id of A:\", id(a))\n",
        "print(\"Id of B:\", id(b))"
      ],
      "metadata": {
        "id": "PNm1mFttL_fY",
        "outputId": "979259d3-33d2-4145-8422-3d864b594492",
        "colab": {
          "base_uri": "https://localhost:8080/"
        }
      },
      "execution_count": null,
      "outputs": [
        {
          "output_type": "stream",
          "name": "stdout",
          "text": [
            "A: (10, 20, 30, 40, 50)\n",
            "B: (10, 20, 30, 40, 50)\n",
            "Id of A: 140116284769104\n",
            "Id of B: 140116284769104\n",
            "\n",
            "A: (10, 20, 30, 40, 50)\n",
            "B: (10, 20, 30, 40, 50)\n",
            "Id of A: 140116284769104\n",
            "Id of B: 140116284769104\n"
          ]
        }
      ]
    },
    {
      "cell_type": "markdown",
      "source": [
        "#Q.1 Write a Python program to get the 4th element and 4th element from last of a tuple form below tuple\n",
        "\n",
        "Get an item of the tuple\n",
        "tuplex = (\"w\", 3, \"r\", \"e\", \"s\", \"o\", \"u\", \"r\", \"c\", \"e\")"
      ],
      "metadata": {
        "id": "FUKw3MxUC-0t"
      }
    },
    {
      "cell_type": "markdown",
      "source": [
        "#Q.2 Write a Python program to convert a list to a tuple?\n",
        "\n",
        "#Convert list to tuple\n",
        "listx = [5, 10, 7, 4, 15, 3]"
      ],
      "metadata": {
        "id": "x30zDM16DeS9"
      }
    },
    {
      "cell_type": "markdown",
      "source": [
        "#Q.3 Write a program to unpack the following tuple into four variables and display each variable.\n",
        "\n",
        "Given\n",
        "\n",
        "tuple1 = (10, 20, 30, 40)"
      ],
      "metadata": {
        "id": "yJTEeWgAD5_W"
      }
    },
    {
      "cell_type": "markdown",
      "source": [
        "#Q.4 Write a program to Swap two tuples in Python\n",
        "\n",
        "\n",
        "Given \n",
        "\n",
        "tuple1 = (11, 22)\n",
        "\n",
        "tuple2 = (99, 88)"
      ],
      "metadata": {
        "id": "2pdGfHjwEZA-"
      }
    },
    {
      "cell_type": "markdown",
      "source": [
        "#Q.5 Write a program to copy elements 40 and 50 from the following tuple into a new tuple.\n",
        "\n",
        "Given:\n",
        "\n",
        "tuple1 = (10, 20, 30, 40, 50, 60)\n",
        "\n",
        "Expected output:\n",
        "\n",
        "tuple2: (40, 50)"
      ],
      "metadata": {
        "id": "dt6f6IU0Enne"
      }
    },
    {
      "cell_type": "markdown",
      "source": [
        "#Q.6 Write a python program to Counts the number of occurrences of item 50 from a tuple\n",
        "\n",
        "Given\n",
        "\n",
        "tuple1 = (50, 10, 60, 70, 50)"
      ],
      "metadata": {
        "id": "2arbJ5l9FzMO"
      }
    }
  ]
}