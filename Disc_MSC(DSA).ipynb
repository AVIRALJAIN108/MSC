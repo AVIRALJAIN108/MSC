{
  "nbformat": 4,
  "nbformat_minor": 0,
  "metadata": {
    "colab": {
      "provenance": []
    },
    "kernelspec": {
      "name": "python3",
      "display_name": "Python 3"
    },
    "language_info": {
      "name": "python"
    }
  },
  "cells": [
    {
      "cell_type": "code",
      "execution_count": null,
      "metadata": {
        "id": "xNg0KroFNvJs"
      },
      "outputs": [],
      "source": []
    },
    {
      "cell_type": "markdown",
      "source": [
        "#Dictionary\n",
        "Dictionaries are used to store data values in key:value pairs.\n",
        "\n",
        "A dictionary is a collection which is ordered*, changeable and do not allow duplicates.\n",
        "\n",
        "As of Python version 3.7, dictionaries are ordered. In Python 3.6 and earlier, dictionaries are unordered.\n",
        "\n",
        "Dictionaries are written with curly brackets, and have keys and values:"
      ],
      "metadata": {
        "id": "uaVXHJ3pOCBX"
      }
    },
    {
      "cell_type": "code",
      "source": [
        "# Dictionary\n",
        "\n",
        "# Creating Empty Dictionary\n",
        "d = {}\n",
        "\n",
        "# Creating Dictionary with items\n",
        "stu = {101: 'Rahul', 102: 'Raj', 103: 'Sonam' }\n",
        "fees = {'rahul':2000, 'raj':3000, 'sonam':8000}\n",
        "\n",
        "# Accessing value of dictionary\n",
        "print(stu)\n",
        "print(stu[101])\n",
        "print(stu[102])\n",
        "print(stu[103])\n",
        "\n",
        "print()\n",
        "\n",
        "print(fees)\n",
        "print(fees['rahul'])\n",
        "print(fees['raj'])\n",
        "print(fees['sonam'])\n",
        "\n",
        "\n"
      ],
      "metadata": {
        "colab": {
          "base_uri": "https://localhost:8080/"
        },
        "id": "6ILrbjH5OSxB",
        "outputId": "53a486de-e780-432d-e182-1afd1ad0b737"
      },
      "execution_count": null,
      "outputs": [
        {
          "output_type": "stream",
          "name": "stdout",
          "text": [
            "{101: 'Rahul', 102: 'Raj', 103: 'Sonam'}\n",
            "Rahul\n",
            "Raj\n",
            "Sonam\n",
            "\n",
            "{'rahul': 2000, 'raj': 3000, 'sonam': 8000}\n",
            "2000\n",
            "3000\n",
            "8000\n"
          ]
        }
      ]
    },
    {
      "cell_type": "markdown",
      "source": [
        "#Duplicates Not Allowed\n",
        "Dictionaries cannot have two items with the same key:\n",
        "\n",
        "Example\n",
        "Duplicate values will overwrite existing values:"
      ],
      "metadata": {
        "id": "BTO-jFMsOnb7"
      }
    },
    {
      "cell_type": "code",
      "source": [
        "# Creating Dictionary with Duplictae Key\n",
        "stu = {101: 'Rahul', 102: 'Raj', 103: 'Sonam',102:'Rohit' }\n",
        "print(stu)\n"
      ],
      "metadata": {
        "colab": {
          "base_uri": "https://localhost:8080/"
        },
        "id": "7D-QdwMLOzjQ",
        "outputId": "81a20c7b-70ea-446b-c753-2da725f4b72d"
      },
      "execution_count": null,
      "outputs": [
        {
          "output_type": "stream",
          "name": "stdout",
          "text": [
            "{101: 'Rahul', 102: 'Rohit', 103: 'Sonam'}\n"
          ]
        }
      ]
    },
    {
      "cell_type": "markdown",
      "source": [
        "#Dictionary Length\n",
        "To determine how many items a dictionary has, use the len() function:\n",
        "\n",
        "Example\n",
        "Print the number of items in the dictionary:"
      ],
      "metadata": {
        "id": "sNamJZ4XPXHx"
      }
    },
    {
      "cell_type": "code",
      "source": [
        "stu = {101: 'Rahul', 102: 'Raj', 103: 'Sonam',102:'Rohit' }\n",
        "print(len(stu))"
      ],
      "metadata": {
        "colab": {
          "base_uri": "https://localhost:8080/"
        },
        "id": "dGKDuE_PPdNC",
        "outputId": "b2502cdc-814a-448e-ef58-7f00c925afd1"
      },
      "execution_count": null,
      "outputs": [
        {
          "output_type": "stream",
          "name": "stdout",
          "text": [
            "3\n"
          ]
        }
      ]
    },
    {
      "cell_type": "markdown",
      "source": [
        "#Dictionary Items - Data Types\n",
        "The values in dictionary items can be of any data type:\n",
        "\n",
        "#Example\n",
        "String, int, boolean, and list data types:"
      ],
      "metadata": {
        "id": "KL8133eVPvf8"
      }
    },
    {
      "cell_type": "code",
      "source": [
        "stu = {101: 'Rahul', 102: 'Raj', 103: 12.67,102:34 }\n",
        "print(stu)"
      ],
      "metadata": {
        "colab": {
          "base_uri": "https://localhost:8080/"
        },
        "id": "4t3gdmYXP3xf",
        "outputId": "09beb692-88b4-4d08-d809-44c525f953bf"
      },
      "execution_count": null,
      "outputs": [
        {
          "output_type": "stream",
          "name": "stdout",
          "text": [
            "{101: 'Rahul', 102: 34, 103: 12.67}\n"
          ]
        }
      ]
    },
    {
      "cell_type": "code",
      "source": [
        "stu = {101.0: 'Rahul', 'A': 'Raj', 103: 12.67,102:34 }\n",
        "print(stu)"
      ],
      "metadata": {
        "colab": {
          "base_uri": "https://localhost:8080/"
        },
        "id": "glN0nvaCQHj2",
        "outputId": "59fad3d3-317d-4ad1-c59a-5f9c3028b26f"
      },
      "execution_count": null,
      "outputs": [
        {
          "output_type": "stream",
          "name": "stdout",
          "text": [
            "{101.0: 'Rahul', 'A': 'Raj', 103: 12.67, 102: 34}\n"
          ]
        }
      ]
    },
    {
      "cell_type": "markdown",
      "source": [
        "#Modifying Dict"
      ],
      "metadata": {
        "id": "pwsI1iGdXeYZ"
      }
    },
    {
      "cell_type": "code",
      "source": [
        "# Modifying Dictionary\n",
        "\n",
        "stu = {101: 'Rahul', 102: 'Raj', 103: 'Sonam' }\n",
        "print(\"Before Modification:\")\n",
        "print(stu)\n",
        "print(id(stu))\n",
        "print()\n",
        "\n",
        "stu[102] = 'Python'\n",
        "print(\"After Modification:\")\n",
        "print(stu)\n",
        "print(id(stu))\n",
        "print()\n"
      ],
      "metadata": {
        "colab": {
          "base_uri": "https://localhost:8080/"
        },
        "id": "CXGoewUfXtUI",
        "outputId": "3094e021-3be5-4013-bb50-719415d9e48c"
      },
      "execution_count": null,
      "outputs": [
        {
          "output_type": "stream",
          "name": "stdout",
          "text": [
            "Before Modification:\n",
            "{101: 'Rahul', 102: 'Raj', 103: 'Sonam'}\n",
            "140504614284976\n",
            "\n",
            "After Modification:\n",
            "{101: 'Rahul', 102: 'Python', 103: 'Sonam'}\n",
            "140504614284976\n",
            "\n"
          ]
        }
      ]
    },
    {
      "cell_type": "markdown",
      "source": [
        "# Adding new item to Dictionary"
      ],
      "metadata": {
        "id": "15-7Z2rPizur"
      }
    },
    {
      "cell_type": "code",
      "source": [
        "# Adding new item to Dictionary\n",
        "\n",
        "stu = {101: 'Rahul', 102: 'Raj', 103: 'Sonam' }\n",
        "print(\"Before Adding:\")\n",
        "print(stu)\n",
        "print(id(stu))\n",
        "print()\n",
        "\n",
        "stu[104] = 'MSC(DSA)'\n",
        "print(\"After Adding:\")\n",
        "print(stu)\n",
        "print(id(stu))\n",
        "print()\n",
        "\n",
        "\n"
      ],
      "metadata": {
        "colab": {
          "base_uri": "https://localhost:8080/"
        },
        "id": "AfMX3Q2Li7wv",
        "outputId": "a081a16f-9510-4f71-9605-1b93cb4e3b39"
      },
      "execution_count": null,
      "outputs": [
        {
          "output_type": "stream",
          "name": "stdout",
          "text": [
            "Before Adding:\n",
            "{101: 'Rahul', 102: 'Raj', 103: 'Sonam'}\n",
            "140504614330112\n",
            "\n",
            "After Adding:\n",
            "{101: 'Rahul', 102: 'Raj', 103: 'Sonam', 104: 'MSC(DSA)'}\n",
            "140504614330112\n",
            "\n"
          ]
        }
      ]
    },
    {
      "cell_type": "markdown",
      "source": [
        "# Deletion Items\n",
        "The del keyword\n",
        "The del keyword method uses the keyword from the dictionary to remove an item."
      ],
      "metadata": {
        "id": "3b0xJslnjFP3"
      }
    },
    {
      "cell_type": "code",
      "source": [
        "# Deletion\n",
        "stu = {101: 'Rahul', 102: 'Raj', 103: 'Sonam' }\n",
        "print(\"Before Deletion:\")\n",
        "print(stu)\n",
        "print(id(stu))\n",
        "print()\n",
        "del stu[102]\n",
        "print(\"After Deletion:\")\n",
        "print(stu)\n",
        "print(id(stu))\n",
        "print()\n",
        "# Delete Entire Dictionary\n",
        "del stu\n",
        "print(stu)\t\t# It will show error stu not defined"
      ],
      "metadata": {
        "colab": {
          "base_uri": "https://localhost:8080/"
        },
        "id": "o9Y4_5GdjP60",
        "outputId": "43b0f7f7-00d9-4c1e-8a66-5391f8096495"
      },
      "execution_count": null,
      "outputs": [
        {
          "output_type": "stream",
          "name": "stdout",
          "text": [
            "Before Deletion:\n",
            "{101: 'Rahul', 102: 'Raj', 103: 'Sonam'}\n",
            "140504613793872\n",
            "\n",
            "After Deletion:\n",
            "{101: 'Rahul', 103: 'Sonam'}\n",
            "140504613793872\n",
            "\n"
          ]
        },
        {
          "output_type": "error",
          "ename": "NameError",
          "evalue": "ignored",
          "traceback": [
            "\u001b[0;31m---------------------------------------------------------------------------\u001b[0m",
            "\u001b[0;31mNameError\u001b[0m                                 Traceback (most recent call last)",
            "\u001b[0;32m<ipython-input-12-e6b593781545>\u001b[0m in \u001b[0;36m<module>\u001b[0;34m\u001b[0m\n\u001b[1;32m     12\u001b[0m \u001b[0;31m# Delete Entire Dictionary\u001b[0m\u001b[0;34m\u001b[0m\u001b[0;34m\u001b[0m\u001b[0;34m\u001b[0m\u001b[0m\n\u001b[1;32m     13\u001b[0m \u001b[0;32mdel\u001b[0m \u001b[0mstu\u001b[0m\u001b[0;34m\u001b[0m\u001b[0;34m\u001b[0m\u001b[0m\n\u001b[0;32m---> 14\u001b[0;31m \u001b[0mprint\u001b[0m\u001b[0;34m(\u001b[0m\u001b[0mstu\u001b[0m\u001b[0;34m)\u001b[0m              \u001b[0;31m# It will show error stu not defined\u001b[0m\u001b[0;34m\u001b[0m\u001b[0;34m\u001b[0m\u001b[0m\n\u001b[0m",
            "\u001b[0;31mNameError\u001b[0m: name 'stu' is not defined"
          ]
        }
      ]
    },
    {
      "cell_type": "markdown",
      "source": [
        "# Testing Keys\n",
        "\n"
      ],
      "metadata": {
        "id": "B-7X4M-ajp0E"
      }
    },
    {
      "cell_type": "code",
      "source": [
        "stu = {101: 'Rahul', 102: 'Raj', 103: 'Sonam' }\n",
        "print(101 in stu)\n",
        "print(100 in stu)\n",
        "print(100 not in stu)\n",
        "print(101 not in stu)"
      ],
      "metadata": {
        "colab": {
          "base_uri": "https://localhost:8080/"
        },
        "id": "aY_Vy5jJjsB6",
        "outputId": "28c75bed-2c1d-4d5a-c1e3-f91a42815403"
      },
      "execution_count": null,
      "outputs": [
        {
          "output_type": "stream",
          "name": "stdout",
          "text": [
            "True\n",
            "False\n",
            "True\n",
            "False\n"
          ]
        }
      ]
    },
    {
      "cell_type": "markdown",
      "source": [
        "#Clear Methods\n",
        "\n",
        "The clear() method removes all items from the dictionary."
      ],
      "metadata": {
        "id": "5pMkNSKtj3Fi"
      }
    },
    {
      "cell_type": "code",
      "source": [
        "# Dictionary - clear() Method\n",
        "stu = {101: 'Rahul', 102: 'Raj', 103: 'Sonam' }\n",
        "print(\"Before Clearing:\")\n",
        "print(stu)\n",
        "print()\n",
        "\n",
        "stu.clear()\n",
        "print(\"After Clearing:\")\n",
        "print(stu)"
      ],
      "metadata": {
        "colab": {
          "base_uri": "https://localhost:8080/"
        },
        "id": "A1uaTi86j5PT",
        "outputId": "63e35671-fb1f-444a-c2b6-fc0bff64c0d4"
      },
      "execution_count": null,
      "outputs": [
        {
          "output_type": "stream",
          "name": "stdout",
          "text": [
            "Before Clearing:\n",
            "{101: 'Rahul', 102: 'Raj', 103: 'Sonam'}\n",
            "\n",
            "After Clearing:\n",
            "{}\n"
          ]
        }
      ]
    },
    {
      "cell_type": "markdown",
      "source": [
        "# Dictionary - copy() Method\n",
        "\n",
        "The copy() method returns a copy of the specified dictionary"
      ],
      "metadata": {
        "id": "fG7E_4y-kO1K"
      }
    },
    {
      "cell_type": "code",
      "source": [
        "stu = {101: 'Rahul', 102: 'Raj', 103: 'Sonam' }\n",
        "print(\"Original Dict:\")\n",
        "print(stu)\n",
        "print(id(stu))\n",
        "print()\n",
        "\n",
        "new_stu = stu.copy()\n",
        "print(\"Copied Dict:\")\n",
        "print(new_stu)\n",
        "print(id(new_stu))"
      ],
      "metadata": {
        "id": "FC4uNeT6kR0q"
      },
      "execution_count": null,
      "outputs": []
    },
    {
      "cell_type": "markdown",
      "source": [
        "# Dictionary - fromkeys() Method\n",
        "\n",
        "The fromkeys() method returns a dictionary with the specified keys and the specified value."
      ],
      "metadata": {
        "id": "zs2bN8Qoknt6"
      }
    },
    {
      "cell_type": "code",
      "source": [
        "# Dictionary - fromkeys() Method\n",
        "key = (101, 102, 103)\n",
        "value = 'MSC(DSA)'\n",
        "d = dict.fromkeys(key, value)\n",
        "print(\"New Dict:\")\n",
        "print(d)\n",
        "print(id(d))\n",
        "print()\n",
        "\n",
        "n = dict.fromkeys(key)\n",
        "print(\"New Dict:\")\n",
        "print(n)\n",
        "print(id(n))"
      ],
      "metadata": {
        "id": "uO_J7574ksJa",
        "colab": {
          "base_uri": "https://localhost:8080/"
        },
        "outputId": "b3732bcc-2268-4ff4-fc74-36a0f022f7d1"
      },
      "execution_count": null,
      "outputs": [
        {
          "output_type": "stream",
          "name": "stdout",
          "text": [
            "New Dict:\n",
            "{101: 'MSC(DSA)', 102: 'MSC(DSA)', 103: 'MSC(DSA)'}\n",
            "140504613822048\n",
            "\n",
            "New Dict:\n",
            "{101: None, 102: None, 103: None}\n",
            "140504613774032\n"
          ]
        }
      ]
    },
    {
      "cell_type": "markdown",
      "source": [
        "# Dictionary - get() Method\n",
        "\n",
        "The get() method returns the value of the item with the specified key. "
      ],
      "metadata": {
        "id": "pg-MgVValChL"
      }
    },
    {
      "cell_type": "code",
      "source": [
        "# Dictionary - get() Method\n",
        "stu = {101: 'Rahul', 102: 'Raj', 103: 'Sonam' }\n",
        "print(\"Original Dict:\")\n",
        "print(stu)\n",
        "print()\n",
        "\n",
        "print(stu.get(101))\n",
        "\n",
        "print(stu.get(104))\n",
        "\n",
        "print(stu.get(104, 'MSC(DSA)'))\n"
      ],
      "metadata": {
        "id": "tNNWp41Up8Lm"
      },
      "execution_count": null,
      "outputs": []
    },
    {
      "cell_type": "markdown",
      "source": [
        "# Dictionary - items() Method\n",
        "\n",
        "In Python Dictionary, items() method is used to return the list with all dictionary keys with values."
      ],
      "metadata": {
        "id": "HT91OimVqKV0"
      }
    },
    {
      "cell_type": "code",
      "source": [
        "# Dictionary - items() Method\n",
        "stu = {101: 'Rahul', 102: 'Raj', 103: 'Sonam' }\n",
        "print(\"Original Dict:\")\n",
        "print(stu)\n",
        "print()\n",
        "\n",
        "it = stu.items()\n",
        "print(it)\n",
        "print()\n",
        "# converting into list\n",
        "lst = list(it)\n",
        "# printing converted list\n",
        "print(lst)\n",
        "print()\n",
        "# accessing one element\n",
        "print(lst[0])\n",
        "print(lst[0][0])\n",
        "print(lst[0][1])\n",
        "print()\n",
        "for r in lst:\n",
        "\tfor c in r:\n",
        "\t\tprint(c)"
      ],
      "metadata": {
        "colab": {
          "base_uri": "https://localhost:8080/"
        },
        "id": "H6JNfFGwqQjE",
        "outputId": "65a5a132-572e-4d28-830c-8b39a79cab45"
      },
      "execution_count": null,
      "outputs": [
        {
          "output_type": "stream",
          "name": "stdout",
          "text": [
            "Original Dict:\n",
            "{101: 'Rahul', 102: 'Raj', 103: 'Sonam'}\n",
            "\n",
            "dict_items([(101, 'Rahul'), (102, 'Raj'), (103, 'Sonam')])\n",
            "\n",
            "[(101, 'Rahul'), (102, 'Raj'), (103, 'Sonam')]\n",
            "\n",
            "(101, 'Rahul')\n",
            "101\n",
            "Rahul\n",
            "\n",
            "101\n",
            "Rahul\n",
            "102\n",
            "Raj\n",
            "103\n",
            "Sonam\n"
          ]
        }
      ]
    },
    {
      "cell_type": "markdown",
      "source": [
        "# Dictionary - keys() Method\n",
        "The keys() method returns a view object. The view object contains the keys of the dictionary, as a list."
      ],
      "metadata": {
        "id": "lZepZZ97qk4E"
      }
    },
    {
      "cell_type": "code",
      "source": [
        "# Dictionary - keys() Method\n",
        "stu = {101: 'Rahul', 102: 'Raj', 103: 'Sonam' }\n",
        "print(\"Original Dict:\")\n",
        "print(stu)\n",
        "print()\n",
        "\n",
        "all_keys = stu.keys()\n",
        "print(all_keys)\n",
        "print()\n",
        "# converting into list\n",
        "keys_lst = list(all_keys)\n",
        "# printing converted list\n",
        "print(keys_lst)\n",
        "print()\n",
        "# accessing one element\n",
        "print(keys_lst[0])\n",
        "print(keys_lst[1])\n",
        "print(keys_lst[2])\n",
        "print()\n",
        "for k in keys_lst:\n",
        "\t\tprint(k)"
      ],
      "metadata": {
        "colab": {
          "base_uri": "https://localhost:8080/"
        },
        "id": "OfNiEVFoqoz-",
        "outputId": "4fc87563-1963-4879-d147-b7be665b0a2a"
      },
      "execution_count": null,
      "outputs": [
        {
          "output_type": "stream",
          "name": "stdout",
          "text": [
            "Original Dict:\n",
            "{101: 'Rahul', 102: 'Raj', 103: 'Sonam'}\n",
            "\n",
            "dict_keys([101, 102, 103])\n",
            "\n",
            "[101, 102, 103]\n",
            "\n",
            "101\n",
            "102\n",
            "103\n",
            "\n",
            "101\n",
            "102\n",
            "103\n"
          ]
        }
      ]
    },
    {
      "cell_type": "markdown",
      "source": [
        "# Dictionary - values() Method\n",
        "values() method returns a view object that displays a list of all values in a given dictionary."
      ],
      "metadata": {
        "id": "mjArGrYGrGyc"
      }
    },
    {
      "cell_type": "code",
      "source": [
        "# Dictionary - values() Method\n",
        "stu = {101: 'Rahul', 102: 'Raj', 103: 'Sonam' }\n",
        "print(\"Original Dict:\")\n",
        "print(stu)\n",
        "print()\n",
        "\n",
        "all_values = stu.values()\n",
        "print(all_values)\n",
        "print()\n",
        "# converting into list\n",
        "values_lst = list(all_values)\n",
        "# printing converted list\n",
        "print(values_lst)\n",
        "print()\n",
        "# accessing one element\n",
        "print(values_lst[0])\n",
        "print(values_lst[1])\n",
        "print(values_lst[2])\n",
        "print()\n",
        "for v in values_lst:\n",
        "\t\tprint(v)"
      ],
      "metadata": {
        "colab": {
          "base_uri": "https://localhost:8080/"
        },
        "id": "-47lBYcKrMXO",
        "outputId": "60050b96-ed1b-4e79-cc68-206b34472c33"
      },
      "execution_count": null,
      "outputs": [
        {
          "output_type": "stream",
          "name": "stdout",
          "text": [
            "Original Dict:\n",
            "{101: 'Rahul', 102: 'Raj', 103: 'Sonam'}\n",
            "\n",
            "dict_values(['Rahul', 'Raj', 'Sonam'])\n",
            "\n",
            "['Rahul', 'Raj', 'Sonam']\n",
            "\n",
            "Rahul\n",
            "Raj\n",
            "Sonam\n",
            "\n",
            "Rahul\n",
            "Raj\n",
            "Sonam\n"
          ]
        }
      ]
    },
    {
      "cell_type": "markdown",
      "source": [
        "# Dictionary - update() Method\n",
        "The update() method inserts the specified items to the dictionary. "
      ],
      "metadata": {
        "id": "th-Hz5gDrWft"
      }
    },
    {
      "cell_type": "code",
      "source": [
        "# Dictionary - update() Method\n",
        "stu = {101: 'Rahul', 102: 'Raj', 103: 'Sonam' }\n",
        "print(\"Original Dict:\")\n",
        "print(stu)\n",
        "print(id(stu))\n",
        "print()\n",
        "\n",
        "stu.update({104: 'Python'})\n",
        "print(\"Updated Dict:\")\n",
        "print(stu)\n",
        "print(id(stu))\n",
        "print()\n",
        "\n",
        "vals = {'name': 'Rahul', 'Address': 'Ranchi', 105: 'MSC(DSA)'}\n",
        "stu.update(vals)\n",
        "print(\"Updated Dict:\")\n",
        "print(stu)\n",
        "print(id(stu))\n",
        "print()"
      ],
      "metadata": {
        "colab": {
          "base_uri": "https://localhost:8080/"
        },
        "id": "3HBddcSCrZ3v",
        "outputId": "303fbd5f-6ee1-4f0c-c68b-4c55171047cd"
      },
      "execution_count": null,
      "outputs": [
        {
          "output_type": "stream",
          "name": "stdout",
          "text": [
            "Original Dict:\n",
            "{101: 'Rahul', 102: 'Raj', 103: 'Sonam'}\n",
            "140504613829040\n",
            "\n",
            "Updated Dict:\n",
            "{101: 'Rahul', 102: 'Raj', 103: 'Sonam', 104: 'Python'}\n",
            "140504613829040\n",
            "\n",
            "Updated Dict:\n",
            "{101: 'Rahul', 102: 'Raj', 103: 'Sonam', 104: 'Python', 'name': 'Rahul', 'Address': 'Ranchi', 105: 'MSC(DSA)'}\n",
            "140504613829040\n",
            "\n"
          ]
        }
      ]
    },
    {
      "cell_type": "markdown",
      "source": [
        "# Dictionary - pop() Method\n",
        "The pop() method removes the specified item from the dictionary."
      ],
      "metadata": {
        "id": "zCG1q4jksBld"
      }
    },
    {
      "cell_type": "code",
      "source": [
        "# Dictionary - pop() Method\n",
        "stu = {101: 'Rahul', 102: 'Raj', 103: 'Sonam' }\n",
        "print(\"Original Dict:\")\n",
        "print(stu)\n",
        "print(id(stu))\n",
        "print()\n",
        "\n",
        "removed_value = stu.pop(102)\n",
        "#removed_value = stu.pop(106)\t# Key is not found so KeyError\n",
        "print(\"After Removing Dict:\")\n",
        "print(stu)\n",
        "print(id(stu))\n",
        "print(\"Removed Value:\", removed_value)\n",
        "print()\n",
        "\n",
        "default_value = stu.pop(106, 'MSC(DSA)')\n",
        "print(\"After Removing Dict:\")\n",
        "print(stu)\n",
        "print(id(stu))\n",
        "print(\"Default Value:\", default_value)\n",
        "print()\n",
        "\n"
      ],
      "metadata": {
        "colab": {
          "base_uri": "https://localhost:8080/"
        },
        "id": "6QUpOM7KsEUV",
        "outputId": "91df7a9d-588c-4fa2-875b-cc1185b1e214"
      },
      "execution_count": null,
      "outputs": [
        {
          "output_type": "stream",
          "name": "stdout",
          "text": [
            "Original Dict:\n",
            "{101: 'Rahul', 102: 'Raj', 103: 'Sonam'}\n",
            "140504614371488\n",
            "\n",
            "After Removing Dict:\n",
            "{101: 'Rahul', 103: 'Sonam'}\n",
            "140504614371488\n",
            "Removed Value: Raj\n",
            "\n",
            "After Removing Dict:\n",
            "{101: 'Rahul', 103: 'Sonam'}\n",
            "140504614371488\n",
            "Default Value: MSC(DSA)\n",
            "\n"
          ]
        }
      ]
    },
    {
      "cell_type": "markdown",
      "source": [
        "# Dictionary - popitem() Method\n",
        "The popitem() method removes the item that was last inserted into the dictionary."
      ],
      "metadata": {
        "id": "ZJyBu0gisSxN"
      }
    },
    {
      "cell_type": "code",
      "source": [
        "# Dictionary - popitem() Method\n",
        "stu = {101: 'Rahul', 102: 'Raj', 103: 'Sonam' }\n",
        "print(\"Original Dict:\")\n",
        "print(stu)\n",
        "print(id(stu))\n",
        "print()\n",
        "\n",
        "removed_item = stu.popitem()\n",
        "print(\"After Removing Dict:\")\n",
        "print(stu)\n",
        "print(id(stu))\n",
        "print(\"Removed Value:\", removed_item)\n",
        "print()\n",
        "\n",
        "\n",
        "\n"
      ],
      "metadata": {
        "colab": {
          "base_uri": "https://localhost:8080/"
        },
        "id": "_SS7rBfcsXnf",
        "outputId": "4d8dbdfa-4c88-4c43-fbdf-1a563756a6c7"
      },
      "execution_count": null,
      "outputs": [
        {
          "output_type": "stream",
          "name": "stdout",
          "text": [
            "Original Dict:\n",
            "{101: 'Rahul', 102: 'Raj', 103: 'Sonam'}\n",
            "140504614374928\n",
            "\n",
            "After Removing Dict:\n",
            "{101: 'Rahul', 102: 'Raj'}\n",
            "140504614374928\n",
            "Removed Value: (103, 'Sonam')\n",
            "\n"
          ]
        }
      ]
    },
    {
      "cell_type": "markdown",
      "source": [
        "#Q.1 Write a Python script to add a key to a dictionary.  \n",
        "Sample Dictionary : {0: 10, 1: 20}\n",
        "\n",
        "\n",
        "Expected Result : {0: 10, 1: 20, 2: 30}"
      ],
      "metadata": {
        "id": "GaSE2Mut3Yhq"
      }
    },
    {
      "cell_type": "markdown",
      "source": [
        "#Q.2 Write a Python script to concatenate following dictionaries to create a new one.  \n",
        "\n",
        "Sample Dictionary :\n",
        "\n",
        "dic1={1:10, 2:20}\n",
        "\n",
        "dic2={3:30, 4:40}\n",
        "\n",
        "dic3={5:50,6:60}"
      ],
      "metadata": {
        "id": "HClN6YHB3jPR"
      }
    },
    {
      "cell_type": "markdown",
      "source": [
        "#Q.3 : Get the key of a minimum value from the following dictionary\n",
        "\n",
        "sample_dict = {\n",
        "\n",
        "    'Physics': 82,\n",
        "\n",
        "    'Math': 65,\n",
        "\n",
        "    'history': 75\n",
        "\n",
        "}  "
      ],
      "metadata": {
        "id": "ZkbaPWQE4Kah"
      }
    },
    {
      "cell_type": "markdown",
      "source": [
        "#Q.4 Write a program to rename a key city to a location in the following dictionary.\n",
        "\n",
        "sample_dict = {\n",
        "\n",
        "  \"name\": \"Kelly\",\n",
        "\n",
        "  \"age\":25,\n",
        "\n",
        "  \"salary\": 8000,\n",
        "\n",
        "  \"city\": \"New york\"\n",
        "  \n",
        "}"
      ],
      "metadata": {
        "id": "GtNpXQkV4-28"
      }
    },
    {
      "cell_type": "markdown",
      "source": [
        "#Q.5 Write a Python program to change Brad’s salary to 8500 in the following dictionary.\n",
        "\n",
        "sample_dict = {\n",
        "\n",
        "    'emp1': {'name': 'Jhon', 'salary': 7500},\n",
        "\n",
        "    'emp2': {'name': 'Emma', 'salary': 8000},\n",
        "\n",
        "    'emp3': {'name': 'Brad', 'salary': 500}\n",
        "    \n",
        "}\n",
        "\n"
      ],
      "metadata": {
        "id": "9uZd9RMP_-IW"
      }
    },
    {
      "cell_type": "code",
      "source": [],
      "metadata": {
        "id": "j3xHcHGj48Hj"
      },
      "execution_count": null,
      "outputs": []
    }
  ]
}