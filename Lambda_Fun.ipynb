{
  "nbformat": 4,
  "nbformat_minor": 0,
  "metadata": {
    "colab": {
      "provenance": []
    },
    "kernelspec": {
      "name": "python3",
      "display_name": "Python 3"
    },
    "language_info": {
      "name": "python"
    }
  },
  "cells": [
    {
      "cell_type": "markdown",
      "source": [
        "A lambda function is a small anonymous function.\n",
        "\n",
        "A lambda function can take any number of arguments, but can only have one expression.\n",
        "\n",
        "Syntax\n",
        "lambda arguments : expression\n",
        "The expression is executed and the result is returned:"
      ],
      "metadata": {
        "id": "zI09MS5R74iT"
      }
    },
    {
      "cell_type": "markdown",
      "source": [
        "Example\n",
        "Add 10 to argument a, and return the result:"
      ],
      "metadata": {
        "id": "VmUMzQ_B8OEb"
      }
    },
    {
      "cell_type": "code",
      "source": [
        "x = lambda a : a + 10\n",
        "print(x(5))"
      ],
      "metadata": {
        "colab": {
          "base_uri": "https://localhost:8080/"
        },
        "id": "_qLNwIk18SCL",
        "outputId": "ef5a4171-4735-49eb-e1ff-85cde17cd12f"
      },
      "execution_count": null,
      "outputs": [
        {
          "output_type": "stream",
          "name": "stdout",
          "text": [
            "15\n"
          ]
        }
      ]
    },
    {
      "cell_type": "markdown",
      "source": [
        "#Lambda functions can take any number of arguments:\n",
        "\n",
        "Example\n",
        "Multiply argument a with argument b and return the result:"
      ],
      "metadata": {
        "id": "3jZPaJhQA__4"
      }
    },
    {
      "cell_type": "code",
      "source": [
        "x = lambda a, b : a * b\n",
        "print(x(5, 6))"
      ],
      "metadata": {
        "colab": {
          "base_uri": "https://localhost:8080/"
        },
        "id": "9ysQZmwG8r5Q",
        "outputId": "0f298ebe-7169-4913-f80b-72f323cbdecd"
      },
      "execution_count": null,
      "outputs": [
        {
          "output_type": "stream",
          "name": "stdout",
          "text": [
            "10\n"
          ]
        }
      ]
    },
    {
      "cell_type": "markdown",
      "source": [
        "#Example\n",
        "Summarize argument a, b, and c and return the result:"
      ],
      "metadata": {
        "id": "QABHQ54lHhr8"
      }
    },
    {
      "cell_type": "code",
      "source": [
        "x = lambda a, b, c : a + b + c\n",
        "print(x(5, 6, 2))\n",
        "\n",
        "\n",
        "\n"
      ],
      "metadata": {
        "colab": {
          "base_uri": "https://localhost:8080/"
        },
        "id": "SaExf2O_F0oE",
        "outputId": "5a3309c5-3be0-49e0-ff98-e6f2367263ff"
      },
      "execution_count": null,
      "outputs": [
        {
          "output_type": "stream",
          "name": "stdout",
          "text": [
            "13\n"
          ]
        }
      ]
    },
    {
      "cell_type": "markdown",
      "source": [
        "#Why Use Lambda Functions?\n",
        "The power of lambda is better shown when you use them as an anonymous function inside another function.\n",
        "\n",
        "Say you have a function definition that takes one argument, and that argument will be multiplied with an unknown number:"
      ],
      "metadata": {
        "id": "QPStfQDqI6Pi"
      }
    },
    {
      "cell_type": "code",
      "source": [
        "def myfunc(n):\n",
        "  return lambda a : a * n"
      ],
      "metadata": {
        "id": "tSdhVi9sJwAh"
      },
      "execution_count": null,
      "outputs": []
    },
    {
      "cell_type": "markdown",
      "source": [
        "Use that function definition to make a function that always doubles the number you send in:"
      ],
      "metadata": {
        "id": "26-s6SdaKB7p"
      }
    },
    {
      "cell_type": "code",
      "source": [
        "def myfunc(n):\n",
        "  return lambda a : a * n\n",
        "\n",
        "mydoubler = myfunc(2)\n",
        "\n",
        "print(mydoubler(11))"
      ],
      "metadata": {
        "id": "nP8lSPTqKFfx"
      },
      "execution_count": null,
      "outputs": []
    },
    {
      "cell_type": "markdown",
      "source": [
        "#Or, use the same function definition to make a function that always triples the number you send in:"
      ],
      "metadata": {
        "id": "PbVXU_Z8KKjp"
      }
    },
    {
      "cell_type": "code",
      "source": [
        "def myfunc(n):\n",
        "  return lambda a : a * n\n",
        "\n",
        "mytripler = myfunc(3)\n",
        "\n",
        "print(mytripler(11))"
      ],
      "metadata": {
        "colab": {
          "base_uri": "https://localhost:8080/"
        },
        "id": "wmGQhUGjKOXL",
        "outputId": "e9a4fe55-1e9e-4c74-f299-53b8521d6a32"
      },
      "execution_count": null,
      "outputs": [
        {
          "output_type": "stream",
          "name": "stdout",
          "text": [
            "33\n"
          ]
        }
      ]
    },
    {
      "cell_type": "markdown",
      "source": [
        "Or, use the same function definition to make both functions, in the same program:"
      ],
      "metadata": {
        "id": "Vr-DBG9aKTMD"
      }
    },
    {
      "cell_type": "code",
      "source": [
        "def myfunc(n):\n",
        "  return lambda a : a * n\n",
        "\n",
        "mydoubler = myfunc(2)\n",
        "mytripler = myfunc(3)\n",
        "\n",
        "print(mydoubler(11))\n",
        "print(mytripler(11))"
      ],
      "metadata": {
        "id": "jvXA6f0-KZRx"
      },
      "execution_count": null,
      "outputs": []
    },
    {
      "cell_type": "code",
      "source": [
        "\n",
        "# Anonymous Function or Lambda Function\n",
        "#Example 1 Single Argument\n",
        "show = lambda x : print(x)\n",
        "show(5)\n",
        "\n",
        "#Example 2 Two Arguments\n",
        "add = lambda x,y : (x+y)\n",
        "print(add(5, 2))\n",
        "\n",
        "#Example 3 Return Multiple\n",
        "add_sub = lambda x,y : (x+y, x-y)\n",
        "a, s = add_sub(5, 2)\n",
        "print(a)\n",
        "print(s)\n",
        "\n",
        "#Example 2 with Default Argument\n",
        "add = lambda x,y=3 : (x+y)\n",
        "print(add(5))\n",
        "\n",
        "\n",
        "\n",
        "\n",
        "\n",
        "\n",
        "\n",
        "\n",
        "\n",
        "\n",
        "\n"
      ],
      "metadata": {
        "colab": {
          "base_uri": "https://localhost:8080/"
        },
        "id": "eJxRCxV_-I1d",
        "outputId": "45ae32f3-bf65-4a6f-f228-f486c0b02402"
      },
      "execution_count": null,
      "outputs": [
        {
          "output_type": "stream",
          "name": "stdout",
          "text": [
            "5\n",
            "7\n",
            "7\n",
            "3\n",
            "8\n"
          ]
        }
      ]
    }
  ]
}