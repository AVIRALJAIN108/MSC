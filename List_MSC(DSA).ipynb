{
  "nbformat": 4,
  "nbformat_minor": 0,
  "metadata": {
    "colab": {
      "provenance": []
    },
    "kernelspec": {
      "name": "python3",
      "display_name": "Python 3"
    },
    "language_info": {
      "name": "python"
    }
  },
  "cells": [
    {
      "cell_type": "code",
      "execution_count": null,
      "metadata": {
        "id": "QpBZmlijSAsx"
      },
      "outputs": [],
      "source": [
        "#Python Lists"
      ]
    },
    {
      "cell_type": "markdown",
      "source": [
        "#There are four collection data types in the Python programming language:\n",
        "\n",
        "#List is a collection which is ordered and changeable. Allows duplicate members.\n",
        "#Tuple is a collection which is ordered and unchangeable. Allows duplicate members.\n",
        "#Set is a collection which is unordered, unchangeable*, and unindexed. No duplicate members.\n",
        "#Dictionary is a collection which is ordered** and changeable. No duplicate members."
      ],
      "metadata": {
        "id": "fTld43fFUeM2"
      }
    },
    {
      "cell_type": "markdown",
      "source": [
        "#Python Lists"
      ],
      "metadata": {
        "id": "kd2aJlXMSGKX"
      }
    },
    {
      "cell_type": "markdown",
      "source": [
        "#List\n",
        "Lists are used to store multiple items in a single variable.\n",
        "\n",
        "Lists are one of 4 built-in data types in Python used to store collections of data, the other 3 are Tuple, Set, and Dictionary, all with different qualities and usage.\n",
        "\n",
        "Lists are created using square brackets:"
      ],
      "metadata": {
        "id": "yp0o9XrbSNUu"
      }
    },
    {
      "cell_type": "markdown",
      "source": [
        "#Example\n",
        "#Create a List:\n",
        "\n"
      ],
      "metadata": {
        "id": "9wy0N3ltSba2"
      }
    },
    {
      "cell_type": "code",
      "source": [
        "MSC_Stu_Name = [\"X\", \"Y\", \"Z\"]\n",
        "print(MSC_Stu_Name)"
      ],
      "metadata": {
        "colab": {
          "base_uri": "https://localhost:8080/"
        },
        "id": "g7R7ZYQnSfuv",
        "outputId": "0114d21b-d94c-4c8b-ed54-bad45683338f"
      },
      "execution_count": null,
      "outputs": [
        {
          "output_type": "stream",
          "name": "stdout",
          "text": [
            "['X', 'Y', 'Z']\n"
          ]
        }
      ]
    },
    {
      "cell_type": "markdown",
      "source": [
        "#List Items\n",
        "#List items are ordered, changeable, and allow duplicate values.\n",
        "\n",
        "List items are indexed, the first item has index [0], the second item has index [1] etc.\n",
        "\n",
        "#Ordered\n",
        "When we say that lists are ordered, it means that the items have a defined order, and that order will not change.\n",
        "\n",
        "If you add new items to a list, the new items will be placed at the end of the list."
      ],
      "metadata": {
        "id": "dU85SORUSzOH"
      }
    },
    {
      "cell_type": "markdown",
      "source": [
        "#Changeable\n",
        "The list is changeable, meaning that we can change, add, and remove items in a list after it has been created.\n",
        "\n",
        "#Allow Duplicates\n",
        "Since lists are indexed, lists can have items with the same value:"
      ],
      "metadata": {
        "id": "TmIrag94S9bP"
      }
    },
    {
      "cell_type": "code",
      "source": [
        "#Example\n",
        "#Lists allow duplicate values:\n",
        "MSC_Stu_Name = [\"X\", \"Y\", \"Z\",\"Z\"]\n",
        "print(MSC_Stu_Name)"
      ],
      "metadata": {
        "colab": {
          "base_uri": "https://localhost:8080/"
        },
        "id": "pizmv7XjTL_X",
        "outputId": "f948e1e6-346d-4484-8a08-5c09e8174e76"
      },
      "execution_count": null,
      "outputs": [
        {
          "output_type": "stream",
          "name": "stdout",
          "text": [
            "['X', 'Y', 'Z', 'Z']\n"
          ]
        }
      ]
    },
    {
      "cell_type": "markdown",
      "source": [
        "#Changeable"
      ],
      "metadata": {
        "id": "pZZkhxZYTZbn"
      }
    },
    {
      "cell_type": "code",
      "source": [
        "MSC_Stu_Name = [\"X\", \"Y\", \"Z\",\"Z\"]\n",
        "MSC_Stu_Name[3]=\"P\"\n",
        "print(MSC_Stu_Name)"
      ],
      "metadata": {
        "colab": {
          "base_uri": "https://localhost:8080/"
        },
        "id": "K4ZlSvDXTWVe",
        "outputId": "3606baaf-5bc0-4f22-a82f-dcb623ccea1b"
      },
      "execution_count": null,
      "outputs": [
        {
          "output_type": "stream",
          "name": "stdout",
          "text": [
            "['X', 'Y', 'Z', 'P']\n"
          ]
        }
      ]
    },
    {
      "cell_type": "markdown",
      "source": [
        "#List Length\n",
        "To determine how many items a list has, use the len() function:\n",
        "\n",
        "#Example\n",
        "Print the number of items in the list:"
      ],
      "metadata": {
        "id": "cagmWZ8CTrV3"
      }
    },
    {
      "cell_type": "code",
      "source": [
        "MSC_Stu_Name = [\"X\", \"Y\", \"Z\",\"Z\"]\n",
        "print(len(MSC_Stu_Name))"
      ],
      "metadata": {
        "colab": {
          "base_uri": "https://localhost:8080/"
        },
        "id": "Ebb48NGETwdn",
        "outputId": "a7b71698-b765-4a8c-f4b0-5546bb7e5534"
      },
      "execution_count": null,
      "outputs": [
        {
          "output_type": "stream",
          "name": "stdout",
          "text": [
            "4\n"
          ]
        }
      ]
    },
    {
      "cell_type": "markdown",
      "source": [
        "#List Items - Data Types\n",
        "#List items can be of any data type:"
      ],
      "metadata": {
        "id": "IIxFDWjuT7m3"
      }
    },
    {
      "cell_type": "code",
      "source": [
        "MSC_Stu_Name = [\"X\", \"Y\", \"Z\",\"Z\",1,2.4]\n",
        "print(MSC_Stu_Name)"
      ],
      "metadata": {
        "colab": {
          "base_uri": "https://localhost:8080/"
        },
        "id": "hWRVZX2pUBE3",
        "outputId": "f1fa6373-e559-4e16-fbaa-cb8a41695d37"
      },
      "execution_count": null,
      "outputs": [
        {
          "output_type": "stream",
          "name": "stdout",
          "text": [
            "['X', 'Y', 'Z', 'Z', 1, 2.4]\n"
          ]
        }
      ]
    },
    {
      "cell_type": "markdown",
      "source": [
        "#type()\n",
        "From Python's perspective, lists are defined as objects with the data type 'list':"
      ],
      "metadata": {
        "id": "oY2e2bQvUK7V"
      }
    },
    {
      "cell_type": "markdown",
      "source": [
        "#Example\n",
        "#What is the data type of a list?"
      ],
      "metadata": {
        "id": "xNhLrkGyUOx-"
      }
    },
    {
      "cell_type": "code",
      "source": [
        "MSC_Stu_Name = [\"X\", \"Y\", \"Z\",\"Z\",1,2.4]\n",
        "print(type(MSC_Stu_Name))"
      ],
      "metadata": {
        "colab": {
          "base_uri": "https://localhost:8080/"
        },
        "id": "m5Mri4nPUSx2",
        "outputId": "77a70e1c-ddbe-4bab-89b6-530937036341"
      },
      "execution_count": null,
      "outputs": [
        {
          "output_type": "stream",
          "name": "stdout",
          "text": [
            "<class 'list'>\n"
          ]
        }
      ]
    },
    {
      "cell_type": "markdown",
      "source": [
        "#Python List Functions\n",
        "Method\tDescription\n",
        "append()\tAdds an element at the end of the list\n",
        "\n",
        "clear()\tRemoves all the elements from the list\n",
        "\n",
        "copy()\tReturns a copy of the list\n",
        "\n",
        "count()\tReturns the number of elements with the specified value\n",
        "\n",
        "extend()\tAdd the elements of a list (or any iterable), to the end of the current list\n",
        "\n",
        "index()\tReturns the index of the first element with the specified value\n",
        "\n",
        "insert()\tAdds an element at the specified position\n",
        "\n",
        "pop()\tRemoves the element at the specified position\n",
        "\n",
        "remove()\tRemoves the first item with the specified value\n",
        "\n",
        "reverse()\tReverses the order of the list\n",
        "\n",
        "sort()\tSorts the list\n",
        " \n",
        "\n"
      ],
      "metadata": {
        "id": "Mbu6vs_kWrS3"
      }
    },
    {
      "cell_type": "markdown",
      "source": [
        "#append()\tAdds an element at the end of the list"
      ],
      "metadata": {
        "id": "WxM3KKvSdIrf"
      }
    },
    {
      "cell_type": "code",
      "source": [
        "MSC_Stu_Name = [\"X\", \"Y\", \"Z\",\"Z\",1,2.4]\n",
        "MSC_Stu_Name.append(\"S\")\n",
        "print(MSC_Stu_Name)"
      ],
      "metadata": {
        "colab": {
          "base_uri": "https://localhost:8080/"
        },
        "id": "iUYXBFfvdMy8",
        "outputId": "ece6739a-a35a-4e7d-aaa8-47cd6f1ab202"
      },
      "execution_count": null,
      "outputs": [
        {
          "output_type": "stream",
          "name": "stdout",
          "text": [
            "['X', 'Y', 'Z', 'Z', 1, 2.4, 'S']\n"
          ]
        }
      ]
    },
    {
      "cell_type": "markdown",
      "source": [
        "#copy()\tReturns a copy of the list"
      ],
      "metadata": {
        "id": "ttcqdLP8eiPk"
      }
    },
    {
      "cell_type": "code",
      "source": [
        "MSC_Stu_Name = [\"X\", \"Y\", \"Z\",\"Z\",1,2.4]\n",
        "x = MSC_Stu_Name.copy()\n",
        "x"
      ],
      "metadata": {
        "colab": {
          "base_uri": "https://localhost:8080/"
        },
        "id": "uoy71XN1eibl",
        "outputId": "fa18ae04-6499-45a4-9fbb-73d3321aaf11"
      },
      "execution_count": null,
      "outputs": [
        {
          "output_type": "execute_result",
          "data": {
            "text/plain": [
              "['X', 'Y', 'Z', 'Z', 1, 2.4]"
            ]
          },
          "metadata": {},
          "execution_count": 10
        }
      ]
    },
    {
      "cell_type": "markdown",
      "source": [
        "#count()\tReturns the number of elements with the specified value"
      ],
      "metadata": {
        "id": "Im7WaiANez9d"
      }
    },
    {
      "cell_type": "code",
      "source": [
        "MSC_Stu_Name = [\"X\", \"Y\", \"Z\",\"Z\",1,2.4]\n",
        "print(MSC_Stu_Name.count(\"Z\"))\n",
        " "
      ],
      "metadata": {
        "colab": {
          "base_uri": "https://localhost:8080/"
        },
        "id": "TL8L1W1SfAI9",
        "outputId": "8b89abaa-76fc-4668-cc3f-ead33ff6b5b9"
      },
      "execution_count": null,
      "outputs": [
        {
          "output_type": "stream",
          "name": "stdout",
          "text": [
            "2\n"
          ]
        }
      ]
    },
    {
      "cell_type": "markdown",
      "source": [
        "#extend()\tAdd the elements of a list (or any iterable), to the end of the current list"
      ],
      "metadata": {
        "id": "ZLS_JfmxfgQG"
      }
    },
    {
      "cell_type": "code",
      "source": [
        "MSC_Stu_Name1 = [\"X\", \"Y\", \"Z\",\"Z\",1,2.4]\n",
        "MSC_Stu_Name2 = [\"X\", \"Y\", \"Z\",\"Z\",1,2 ]\n",
        "MSC_Stu_Name1 .extend(MSC_Stu_Name2)\n",
        "print(MSC_Stu_Name1)"
      ],
      "metadata": {
        "colab": {
          "base_uri": "https://localhost:8080/"
        },
        "id": "5H-ZT6KmfvNF",
        "outputId": "afe8e95c-ae95-4e5d-f9ee-3cb562792ae9"
      },
      "execution_count": null,
      "outputs": [
        {
          "output_type": "stream",
          "name": "stdout",
          "text": [
            "['X', 'Y', 'Z', 'Z', 1, 2.4, 'X', 'Y', 'Z', 'Z', 1, 2]\n"
          ]
        }
      ]
    },
    {
      "cell_type": "markdown",
      "source": [
        "#index()\tReturns the index of the first element with the specified value"
      ],
      "metadata": {
        "id": "YH0RCje3gCQ0"
      }
    },
    {
      "cell_type": "code",
      "source": [
        "MSC_Stu_Name1 = [\"X\", \"Y\", \"Z\",\"Z\",1,2.4]\n",
        "x = MSC_Stu_Name1.index(\"Y\")\n",
        "x"
      ],
      "metadata": {
        "colab": {
          "base_uri": "https://localhost:8080/"
        },
        "id": "Vzc1SZbZgJ_E",
        "outputId": "d698cdb7-d13d-4efe-daad-0dd83c094058"
      },
      "execution_count": null,
      "outputs": [
        {
          "output_type": "execute_result",
          "data": {
            "text/plain": [
              "1"
            ]
          },
          "metadata": {},
          "execution_count": 16
        }
      ]
    },
    {
      "cell_type": "markdown",
      "source": [
        "#Note: The index() method only returns the first occurrence of the value."
      ],
      "metadata": {
        "id": "gTDp4_K9gYX0"
      }
    },
    {
      "cell_type": "markdown",
      "source": [
        "#insert()\tAdds an element at the specified position"
      ],
      "metadata": {
        "id": "6JaAKh_NgjXS"
      }
    },
    {
      "cell_type": "code",
      "source": [
        "MSC_Stu_Name1 = [\"X\", \"Y\", \"Z\",\"Z\",1,2.4]\n",
        "MSC_Stu_Name1.insert(1, \"MKKK\")\n",
        "MSC_Stu_Name1"
      ],
      "metadata": {
        "colab": {
          "base_uri": "https://localhost:8080/"
        },
        "id": "EE_xGOEegoL8",
        "outputId": "1dc21ac1-8081-4d0e-ac2a-a9a835c0a2f4"
      },
      "execution_count": null,
      "outputs": [
        {
          "output_type": "execute_result",
          "data": {
            "text/plain": [
              "['X', 'MKKK', 'Y', 'Z', 'Z', 1, 2.4]"
            ]
          },
          "metadata": {},
          "execution_count": 18
        }
      ]
    },
    {
      "cell_type": "markdown",
      "source": [
        "#pop()\tRemoves the element at the specified position"
      ],
      "metadata": {
        "id": "JmCjQ1_ig1BM"
      }
    },
    {
      "cell_type": "code",
      "source": [
        "MSC_Stu_Name1 = [\"X\", \"Y\", \"Z\",\"Z\",1,2.4]\n",
        "MSC_Stu_Name1.pop(1)\n",
        "MSC_Stu_Name1"
      ],
      "metadata": {
        "colab": {
          "base_uri": "https://localhost:8080/"
        },
        "id": "UXAU3FYZhHgk",
        "outputId": "ec2c1536-009c-453c-946e-a3f61759fb84"
      },
      "execution_count": null,
      "outputs": [
        {
          "output_type": "execute_result",
          "data": {
            "text/plain": [
              "['X', 'Z', 'Z', 1, 2.4]"
            ]
          },
          "metadata": {},
          "execution_count": 19
        }
      ]
    },
    {
      "cell_type": "markdown",
      "source": [
        "#remove()\tRemoves the first item with the specified value"
      ],
      "metadata": {
        "id": "ImW4QpgChUG9"
      }
    },
    {
      "cell_type": "code",
      "source": [
        "MSC_Stu_Name1 = [\"X\", \"Y\", \"Z\",\"Z\",1,2.4]\n",
        "MSC_Stu_Name1.remove(\"Z\")\n",
        "MSC_Stu_Name1"
      ],
      "metadata": {
        "colab": {
          "base_uri": "https://localhost:8080/"
        },
        "id": "nTJ4uTCvhddk",
        "outputId": "28a2ae96-a122-49cc-905a-4e4af880bb31"
      },
      "execution_count": null,
      "outputs": [
        {
          "output_type": "execute_result",
          "data": {
            "text/plain": [
              "['X', 'Y', 'Z', 1, 2.4]"
            ]
          },
          "metadata": {},
          "execution_count": 20
        }
      ]
    },
    {
      "cell_type": "markdown",
      "source": [
        "#Python List reverse() Method\n",
        "#The reverse() method reverses the sorting order of the elements."
      ],
      "metadata": {
        "id": "21Nc0ky8hyVN"
      }
    },
    {
      "cell_type": "code",
      "source": [
        "MSC_Stu_Name1 = [\"X\", \"Y\", \"Z\",\"Z\",1,2.4]\n",
        "MSC_Stu_Name1.reverse( )\n",
        "MSC_Stu_Name1"
      ],
      "metadata": {
        "colab": {
          "base_uri": "https://localhost:8080/"
        },
        "id": "bX8R-mTCh-p0",
        "outputId": "5eb2a35b-445f-4298-c831-4cbb57d020a8"
      },
      "execution_count": null,
      "outputs": [
        {
          "output_type": "execute_result",
          "data": {
            "text/plain": [
              "[2.4, 1, 'Z', 'Z', 'Y', 'X']"
            ]
          },
          "metadata": {},
          "execution_count": 21
        }
      ]
    },
    {
      "cell_type": "markdown",
      "source": [
        "#sort() method\n",
        "Definition and Usage\n",
        "The sort() method sorts the list ascending by default.\n",
        "\n",
        "we can also make a function to decide the sorting criteria(s)."
      ],
      "metadata": {
        "id": "ECRVbKvuiL5c"
      }
    },
    {
      "cell_type": "code",
      "source": [
        "MSC_Stu_Name1 = [1,6,9,4]\n",
        "MSC_Stu_Name1.sort()\n",
        "MSC_Stu_Name1"
      ],
      "metadata": {
        "colab": {
          "base_uri": "https://localhost:8080/"
        },
        "id": "qUptXUezmquc",
        "outputId": "e64092cd-43b7-4852-f069-b6b31f5027cf"
      },
      "execution_count": null,
      "outputs": [
        {
          "output_type": "execute_result",
          "data": {
            "text/plain": [
              "[1, 4, 6, 9]"
            ]
          },
          "metadata": {},
          "execution_count": 24
        }
      ]
    }
  ]
}