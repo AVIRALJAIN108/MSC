{
  "nbformat": 4,
  "nbformat_minor": 0,
  "metadata": {
    "colab": {
      "provenance": []
    },
    "kernelspec": {
      "name": "python3",
      "display_name": "Python 3"
    },
    "language_info": {
      "name": "python"
    }
  },
  "cells": [
    {
      "cell_type": "code",
      "execution_count": null,
      "metadata": {
        "id": "nFUWixzgHEjI"
      },
      "outputs": [],
      "source": []
    },
    {
      "cell_type": "markdown",
      "source": [
        "#Python For Loops\n",
        "\n",
        "A for loop is used for iterating over a sequence (that is either a list, a tuple, a dictionary, a set, or a string).\n",
        "\n",
        "\n",
        "This is less like the for keyword in other programming languages, and works more like an iterator method as found in other object-orientated programming languages.\n",
        "\n",
        "With the for loop we can execute a set of statements, once for each item in a list, tuple, set etc."
      ],
      "metadata": {
        "id": "FE-y9DtvHXIl"
      }
    },
    {
      "cell_type": "markdown",
      "source": [
        "Looping Through a String\n",
        "Even strings are iterable objects, they contain a sequence of characters:\n",
        "\n",
        "Example\n",
        "Loop through the letters in the word MSC Data Science\":"
      ],
      "metadata": {
        "id": "KBjxeArpH8J2"
      }
    },
    {
      "cell_type": "code",
      "source": [
        "# For Loop\n",
        "st = \"MSC Data Science\"\n",
        "for ch in st:\n",
        "\tprint(ch)\n",
        "\n",
        "print(\"Rest of the Code\")"
      ],
      "metadata": {
        "colab": {
          "base_uri": "https://localhost:8080/"
        },
        "id": "6Nosx4iNHrVu",
        "outputId": "038f5e40-2402-4ff7-9649-1bdd288b43aa"
      },
      "execution_count": null,
      "outputs": [
        {
          "output_type": "stream",
          "name": "stdout",
          "text": [
            "M\n",
            "S\n",
            "C\n",
            " \n",
            "D\n",
            "a\n",
            "t\n",
            "a\n",
            " \n",
            "S\n",
            "c\n",
            "i\n",
            "e\n",
            "n\n",
            "c\n",
            "e\n",
            "Rest of the Code\n"
          ]
        }
      ]
    },
    {
      "cell_type": "markdown",
      "source": [
        "#The break Statement\n",
        "\n",
        "With the break statement we can stop the loop before it has looped through all the items:\n",
        "\n",
        "Example\n",
        "Exit the loop when x is \"Mtech\":"
      ],
      "metadata": {
        "id": "HQq94DvDIGNG"
      }
    },
    {
      "cell_type": "code",
      "source": [
        "Class_DSA = [\"Mtech\", \"MSC\", \"MBA\"]\n",
        "for x in Class_DSA:\n",
        "  print(x)\n",
        "  if x == \"MSC\":\n",
        "    break"
      ],
      "metadata": {
        "colab": {
          "base_uri": "https://localhost:8080/"
        },
        "id": "DkUKgdSAILp3",
        "outputId": "e4beb8ff-43b5-43a1-8d17-91c6b677c653"
      },
      "execution_count": null,
      "outputs": [
        {
          "output_type": "stream",
          "name": "stdout",
          "text": [
            "Mtech\n",
            "MSC\n"
          ]
        }
      ]
    },
    {
      "cell_type": "markdown",
      "source": [
        "#Example\n",
        "Exit the loop when x is \"MSC\", but this time the break comes before the print:"
      ],
      "metadata": {
        "id": "QgsSY_lSIeN_"
      }
    },
    {
      "cell_type": "code",
      "source": [
        "Class_DSA = [\"Mtech\", \"MSC\", \"MBA\"]\n",
        "for x in Class_DSA:\n",
        "  if x == \"MSC\":\n",
        "    break\n",
        "  print(x)"
      ],
      "metadata": {
        "colab": {
          "base_uri": "https://localhost:8080/"
        },
        "id": "hwypvu5ZIloO",
        "outputId": "e0d6a299-6714-4b43-f5e7-642d2c9de1df"
      },
      "execution_count": null,
      "outputs": [
        {
          "output_type": "stream",
          "name": "stdout",
          "text": [
            "Mtech\n"
          ]
        }
      ]
    },
    {
      "cell_type": "markdown",
      "source": [
        "#The continue Statement\n",
        "With the continue statement we can stop the current iteration of the loop, and continue with the next:\n",
        "\n",
        "Example\n",
        "\n",
        "Do not print MSC:"
      ],
      "metadata": {
        "id": "1vAQQFp1J-8A"
      }
    },
    {
      "cell_type": "code",
      "source": [
        "Class_DSA = [\"Mtech\", \"MSC\", \"MBA\"]\n",
        "for x in Class_DSA:\n",
        "  if x == \"MSC\":\n",
        "    continue\n",
        "  print(x) \n"
      ],
      "metadata": {
        "colab": {
          "base_uri": "https://localhost:8080/"
        },
        "id": "McjmTL8YKFeW",
        "outputId": "99ac13d1-da7e-41b3-92a7-4640d6e3d6d2"
      },
      "execution_count": null,
      "outputs": [
        {
          "output_type": "stream",
          "name": "stdout",
          "text": [
            "Mtech\n",
            "MBA\n"
          ]
        }
      ]
    },
    {
      "cell_type": "markdown",
      "source": [
        "#The range() Function\n",
        "\n",
        "To loop through a set of code a specified number of times, we can use the range() function,\n",
        "\n",
        "The range() function returns a sequence of numbers, starting from 0 by default, and increments by 1 (by default), and ends at a specified number."
      ],
      "metadata": {
        "id": "ZZJXwiIQK03Y"
      }
    },
    {
      "cell_type": "markdown",
      "source": [
        "#Example\n",
        "Using the range() function:"
      ],
      "metadata": {
        "id": "USeBVExqK_-Q"
      }
    },
    {
      "cell_type": "code",
      "source": [
        "for x in range(6):\n",
        "  print(x)"
      ],
      "metadata": {
        "id": "dBxJI9bWLEmf"
      },
      "execution_count": null,
      "outputs": []
    },
    {
      "cell_type": "markdown",
      "source": [
        "#Note that range(6) is not the values of 0 to 6, but the values 0 to 5.\n",
        "\n",
        "The range() function defaults to 0 as a starting value, however it is possible\n",
        "\n",
        " to specify the starting value by adding a parameter: range(2, 6), which means \n",
        " \n",
        " values from 2 to 6 (but not including 6):\n",
        "\n",
        "\n",
        "#Example\n",
        "Using the start parameter:"
      ],
      "metadata": {
        "id": "hQZbq0rjLJHg"
      }
    },
    {
      "cell_type": "code",
      "source": [
        "for x in range(2, 6):\n",
        "  print(x)"
      ],
      "metadata": {
        "id": "YvCE1WgcLRi3"
      },
      "execution_count": null,
      "outputs": []
    },
    {
      "cell_type": "markdown",
      "source": [
        "#The range() function defaults to increment the sequence by 1, however it is possible to specify the increment value by adding a third parameter: range(2, 30, 3):\n",
        "\n",
        "#Example\n",
        "Increment the sequence with 3 (default is 1):"
      ],
      "metadata": {
        "id": "OvyoAd-tLbFo"
      }
    },
    {
      "cell_type": "code",
      "source": [
        "for x in range(2, 30, 3):\n",
        "  print(x)"
      ],
      "metadata": {
        "colab": {
          "base_uri": "https://localhost:8080/"
        },
        "id": "6fxdRousLga_",
        "outputId": "e047c69f-ac6c-43cc-f687-fa317d91cd52"
      },
      "execution_count": null,
      "outputs": [
        {
          "output_type": "stream",
          "name": "stdout",
          "text": [
            "2\n",
            "5\n",
            "8\n",
            "11\n",
            "14\n",
            "17\n",
            "20\n",
            "23\n",
            "26\n",
            "29\n"
          ]
        }
      ]
    },
    {
      "cell_type": "markdown",
      "source": [
        "#Else in For Loop\n",
        "The else keyword in a for loop specifies a block of code to be executed when the loop is finished:\n",
        "\n",
        "#Example\n",
        "Print all numbers from 0 to 5, and print a message when the loop has ended:"
      ],
      "metadata": {
        "id": "-ay6W-1-LlfZ"
      }
    },
    {
      "cell_type": "code",
      "source": [
        "for x in range(6):\n",
        "  print(x)\n",
        "else:\n",
        "  print(\"Finally finished!\")"
      ],
      "metadata": {
        "colab": {
          "base_uri": "https://localhost:8080/"
        },
        "id": "2LTqfeClLtQJ",
        "outputId": "7ecefaad-670c-4728-bcd7-99d74ef645a9"
      },
      "execution_count": null,
      "outputs": [
        {
          "output_type": "stream",
          "name": "stdout",
          "text": [
            "0\n",
            "1\n",
            "2\n",
            "3\n",
            "4\n",
            "5\n",
            "Finally finished!\n"
          ]
        }
      ]
    },
    {
      "cell_type": "markdown",
      "source": [
        "#Note: The else block will NOT be executed if the loop is stopped by a break statement.\n",
        "\n",
        "#Example\n",
        "Break the loop when x is 3, and see what happens with the else block:"
      ],
      "metadata": {
        "id": "6zBTXJfyLxDI"
      }
    },
    {
      "cell_type": "code",
      "source": [
        "for x in range(6):\n",
        "  if x == 3: break\n",
        "  print(x)\n",
        "else:\n",
        "  print(\"Finally finished!\")"
      ],
      "metadata": {
        "colab": {
          "base_uri": "https://localhost:8080/"
        },
        "id": "QhSX9o3-L1MI",
        "outputId": "df9cfc27-c9e7-4600-ecd8-3f173dfabe7a"
      },
      "execution_count": null,
      "outputs": [
        {
          "output_type": "stream",
          "name": "stdout",
          "text": [
            "0\n",
            "1\n",
            "2\n"
          ]
        }
      ]
    },
    {
      "cell_type": "markdown",
      "source": [
        "#Nested Loops\n",
        "A nested loop is a loop inside a loop.\n",
        "\n",
        "The \"inner loop\" will be executed one time for each iteration of the \"outer loop\":\n",
        "\n",
        "#Example\n",
        "Print each Stream  for every Subject:"
      ],
      "metadata": {
        "id": "1lHWGLVLMCZx"
      }
    },
    {
      "cell_type": "code",
      "source": [
        "Stream = [\"Mtech\", \"MSC\", \"MBA\"]\n",
        "Subject = [\"Scala\", \"Python\", \"Image Processing\"]\n",
        "\n",
        "for x in Stream:\n",
        "  for y in Subject:\n",
        "    print(x, y)"
      ],
      "metadata": {
        "colab": {
          "base_uri": "https://localhost:8080/"
        },
        "id": "CEVewmpfMVUd",
        "outputId": "f8664218-4e7a-44e0-af73-7ddce258454f"
      },
      "execution_count": null,
      "outputs": [
        {
          "output_type": "stream",
          "name": "stdout",
          "text": [
            "Mtech Scala\n",
            "Mtech Python\n",
            "Mtech Image Processing\n",
            "MSC Scala\n",
            "MSC Python\n",
            "MSC Image Processing\n",
            "MBA Scala\n",
            "MBA Python\n",
            "MBA Image Processing\n"
          ]
        }
      ]
    },
    {
      "cell_type": "markdown",
      "source": [
        "#The pass Statement\n",
        "for loops cannot be empty, but if you for some reason have a for loop with no content, put in the pass statement to avoid getting an error.\n",
        "Example"
      ],
      "metadata": {
        "id": "rMUn8g5kM4fK"
      }
    },
    {
      "cell_type": "code",
      "source": [
        "Stream = [\"Mtech\", \"MSC\", \"MBA\"]\n",
        "for x in Stream:"
      ],
      "metadata": {
        "colab": {
          "base_uri": "https://localhost:8080/",
          "height": 130
        },
        "id": "lTwF3i0xM_jJ",
        "outputId": "c1da3fc6-f634-4375-fa72-c9972abd2470"
      },
      "execution_count": null,
      "outputs": [
        {
          "output_type": "error",
          "ename": "SyntaxError",
          "evalue": "ignored",
          "traceback": [
            "\u001b[0;36m  File \u001b[0;32m\"<ipython-input-20-9d8e6a3e5fa1>\"\u001b[0;36m, line \u001b[0;32m2\u001b[0m\n\u001b[0;31m    for x in Stream:\u001b[0m\n\u001b[0m                    ^\u001b[0m\n\u001b[0;31mSyntaxError\u001b[0m\u001b[0;31m:\u001b[0m unexpected EOF while parsing\n"
          ]
        }
      ]
    },
    {
      "cell_type": "code",
      "source": [
        "Stream = [\"Mtech\", \"MSC\", \"MBA\"]\n",
        "for x in Stream:\n",
        "  pass"
      ],
      "metadata": {
        "id": "uxAomDYONEXJ"
      },
      "execution_count": null,
      "outputs": []
    },
    {
      "cell_type": "markdown",
      "source": [
        "#The while Loop\n",
        "With the while loop we can execute a set of statements as long as a condition is true.\n",
        "\n",
        "Example\n",
        "Print i as long as i is less than 6:"
      ],
      "metadata": {
        "id": "WVIPbGq3NTVH"
      }
    },
    {
      "cell_type": "code",
      "source": [
        "i = 1\n",
        "while i < 6:\n",
        "  print(i)\n",
        "  i += 1"
      ],
      "metadata": {
        "colab": {
          "base_uri": "https://localhost:8080/"
        },
        "id": "ZrXf9g3FNYAB",
        "outputId": "00cc1f6d-a334-4149-f105-dd3d99ca8c20"
      },
      "execution_count": null,
      "outputs": [
        {
          "output_type": "stream",
          "name": "stdout",
          "text": [
            "1\n",
            "2\n",
            "3\n",
            "4\n",
            "5\n"
          ]
        }
      ]
    },
    {
      "cell_type": "markdown",
      "source": [
        "#The break Statement\n",
        "With the break statement we can stop the loop even if the while condition is true:\n",
        "\n",
        "#Example\n",
        "Exit the loop when i is 3:"
      ],
      "metadata": {
        "id": "x8eqsmXkNjW4"
      }
    },
    {
      "cell_type": "code",
      "source": [
        "i = 1\n",
        "while i < 6:\n",
        "  print(i)\n",
        "  if i == 3:\n",
        "    break\n",
        "  i += 1"
      ],
      "metadata": {
        "colab": {
          "base_uri": "https://localhost:8080/"
        },
        "id": "BSfs5P4mNpt7",
        "outputId": "afb67b9b-5f6e-471b-f5d3-c10e4e131015"
      },
      "execution_count": null,
      "outputs": [
        {
          "output_type": "stream",
          "name": "stdout",
          "text": [
            "1\n",
            "2\n",
            "3\n"
          ]
        }
      ]
    },
    {
      "cell_type": "markdown",
      "source": [
        "#The continue Statement\n",
        "With the continue statement we can stop the current iteration, and continue with the next:\n",
        "\n",
        "Example\n",
        "Continue to the next iteration if i is 3:"
      ],
      "metadata": {
        "id": "YBXOL4qcNuEh"
      }
    },
    {
      "cell_type": "code",
      "source": [
        "i = 0\n",
        "while i < 6:\n",
        "  i += 1\n",
        "  if i == 3:\n",
        "    continue\n",
        "  print(i)"
      ],
      "metadata": {
        "colab": {
          "base_uri": "https://localhost:8080/"
        },
        "id": "HaAsxRVFNw7r",
        "outputId": "ccc5b196-183e-431e-eb45-c68615f6296f"
      },
      "execution_count": null,
      "outputs": [
        {
          "output_type": "stream",
          "name": "stdout",
          "text": [
            "1\n",
            "2\n",
            "4\n",
            "5\n",
            "6\n"
          ]
        }
      ]
    },
    {
      "cell_type": "markdown",
      "source": [
        "#The else Statement\n",
        "With the else statement we can run a block of code once when the condition no longer is true:\n",
        "\n",
        "Example\n",
        "Print a message once the condition is false:"
      ],
      "metadata": {
        "id": "-K-0xhpENznI"
      }
    },
    {
      "cell_type": "code",
      "source": [
        "i = 1\n",
        "while i < 6:\n",
        "  print(i)\n",
        "  i += 1\n",
        "else:\n",
        "  print(\"i is no longer less than 6\")"
      ],
      "metadata": {
        "colab": {
          "base_uri": "https://localhost:8080/"
        },
        "id": "xenJRsYYN2Ji",
        "outputId": "1112790f-4790-4636-b37a-7b717c79266c"
      },
      "execution_count": null,
      "outputs": [
        {
          "output_type": "stream",
          "name": "stdout",
          "text": [
            "1\n",
            "2\n",
            "3\n",
            "4\n",
            "5\n",
            "i is no longer less than 6\n"
          ]
        }
      ]
    }
  ]
}